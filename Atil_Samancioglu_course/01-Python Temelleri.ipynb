{
 "cells": [
  {
   "cell_type": "markdown",
   "id": "b12aadab",
   "metadata": {},
   "source": [
    "## Veriables(Değişkenler)"
   ]
  },
  {
   "cell_type": "markdown",
   "id": "350ee06f",
   "metadata": {},
   "source": [
    "## Integer ve float"
   ]
  },
  {
   "cell_type": "code",
   "execution_count": null,
   "id": "4b85f9d6",
   "metadata": {},
   "outputs": [],
   "source": [
    "degisken=10"
   ]
  },
  {
   "cell_type": "code",
   "execution_count": 3,
   "id": "a96aeb3b",
   "metadata": {},
   "outputs": [],
   "source": [
    "digerdegisken=20"
   ]
  },
  {
   "cell_type": "code",
   "execution_count": 4,
   "id": "535b2d07",
   "metadata": {},
   "outputs": [
    {
     "data": {
      "text/plain": [
       "30"
      ]
     },
     "execution_count": 4,
     "metadata": {},
     "output_type": "execute_result"
    }
   ],
   "source": [
    "degisken + digerdegisken"
   ]
  },
  {
   "cell_type": "code",
   "execution_count": 5,
   "id": "f7e23cf9",
   "metadata": {},
   "outputs": [
    {
     "data": {
      "text/plain": [
       "int"
      ]
     },
     "execution_count": 5,
     "metadata": {},
     "output_type": "execute_result"
    }
   ],
   "source": [
    "type(degisken)"
   ]
  },
  {
   "cell_type": "code",
   "execution_count": 9,
   "id": "ba190a60",
   "metadata": {},
   "outputs": [],
   "source": [
    "sonuc=digerdegisken/degisken"
   ]
  },
  {
   "cell_type": "code",
   "execution_count": 10,
   "id": "b787944c",
   "metadata": {},
   "outputs": [
    {
     "data": {
      "text/plain": [
       "2.0"
      ]
     },
     "execution_count": 10,
     "metadata": {},
     "output_type": "execute_result"
    }
   ],
   "source": [
    "sonuc"
   ]
  },
  {
   "cell_type": "code",
   "execution_count": 11,
   "id": "12c3b726",
   "metadata": {},
   "outputs": [
    {
     "data": {
      "text/plain": [
       "float"
      ]
     },
     "execution_count": 11,
     "metadata": {},
     "output_type": "execute_result"
    }
   ],
   "source": [
    "type(sonuc)"
   ]
  },
  {
   "cell_type": "code",
   "execution_count": 12,
   "id": "2fd561e1",
   "metadata": {},
   "outputs": [],
   "source": [
    "a=5\n",
    "pi=3.14"
   ]
  },
  {
   "cell_type": "code",
   "execution_count": 13,
   "id": "105ddc87",
   "metadata": {},
   "outputs": [
    {
     "data": {
      "text/plain": [
       "1.592356687898089"
      ]
     },
     "execution_count": 13,
     "metadata": {},
     "output_type": "execute_result"
    }
   ],
   "source": [
    "a/pi"
   ]
  },
  {
   "cell_type": "markdown",
   "id": "2f24eea4",
   "metadata": {},
   "source": [
    "python farklı veri tiplerini de bölebilir"
   ]
  },
  {
   "cell_type": "markdown",
   "id": "a2d18691",
   "metadata": {},
   "source": [
    "## Matematiksel İşlemler"
   ]
  },
  {
   "cell_type": "code",
   "execution_count": 15,
   "id": "610db951",
   "metadata": {},
   "outputs": [],
   "source": [
    "x=5\n",
    "y=3"
   ]
  },
  {
   "cell_type": "code",
   "execution_count": 16,
   "id": "7569dbc8",
   "metadata": {},
   "outputs": [
    {
     "data": {
      "text/plain": [
       "625"
      ]
     },
     "execution_count": 16,
     "metadata": {},
     "output_type": "execute_result"
    }
   ],
   "source": [
    "x*x*x*x"
   ]
  },
  {
   "cell_type": "code",
   "execution_count": 17,
   "id": "38bb1057",
   "metadata": {},
   "outputs": [
    {
     "data": {
      "text/plain": [
       "625"
      ]
     },
     "execution_count": 17,
     "metadata": {},
     "output_type": "execute_result"
    }
   ],
   "source": [
    "x ** 4"
   ]
  },
  {
   "cell_type": "code",
   "execution_count": 18,
   "id": "b461893e",
   "metadata": {},
   "outputs": [],
   "source": [
    "## x üzeri 4 ü hesapladık"
   ]
  },
  {
   "cell_type": "code",
   "execution_count": 30,
   "id": "1e6c229f",
   "metadata": {},
   "outputs": [],
   "source": [
    "## Remainder(Kalanını Bulmak)"
   ]
  },
  {
   "cell_type": "code",
   "execution_count": 19,
   "id": "22a9a7c0",
   "metadata": {},
   "outputs": [
    {
     "data": {
      "text/plain": [
       "0"
      ]
     },
     "execution_count": 19,
     "metadata": {},
     "output_type": "execute_result"
    }
   ],
   "source": [
    "10%2"
   ]
  },
  {
   "cell_type": "code",
   "execution_count": 20,
   "id": "a023153e",
   "metadata": {},
   "outputs": [
    {
     "data": {
      "text/plain": [
       "1"
      ]
     },
     "execution_count": 20,
     "metadata": {},
     "output_type": "execute_result"
    }
   ],
   "source": [
    "11%2\n"
   ]
  },
  {
   "cell_type": "code",
   "execution_count": 21,
   "id": "06c4185e",
   "metadata": {},
   "outputs": [
    {
     "data": {
      "text/plain": [
       "2"
      ]
     },
     "execution_count": 21,
     "metadata": {},
     "output_type": "execute_result"
    }
   ],
   "source": [
    "11%3"
   ]
  },
  {
   "cell_type": "code",
   "execution_count": 22,
   "id": "a74b660f",
   "metadata": {},
   "outputs": [],
   "source": [
    "kullanicinin_yasi=10"
   ]
  },
  {
   "cell_type": "code",
   "execution_count": 24,
   "id": "3cbc5312",
   "metadata": {},
   "outputs": [],
   "source": [
    "## camelCase ve snake_case yazim raconları vardır \n",
    "## pythoncular genellikle camelCase kullanır"
   ]
  },
  {
   "cell_type": "code",
   "execution_count": 28,
   "id": "4923d05b",
   "metadata": {},
   "outputs": [
    {
     "name": "stdout",
     "output_type": "stream",
     "text": [
      "Yaşınızı Giriniz: 40\n"
     ]
    }
   ],
   "source": [
    "kullaniciYasi = input(\"Yaşınızı Giriniz: \")"
   ]
  },
  {
   "cell_type": "code",
   "execution_count": 29,
   "id": "ee476921",
   "metadata": {},
   "outputs": [
    {
     "data": {
      "text/plain": [
       "str"
      ]
     },
     "execution_count": 29,
     "metadata": {},
     "output_type": "execute_result"
    }
   ],
   "source": [
    "type(kullaniciYasi)"
   ]
  },
  {
   "cell_type": "markdown",
   "id": "166ff0f2",
   "metadata": {},
   "source": [
    "## String"
   ]
  },
  {
   "cell_type": "code",
   "execution_count": 31,
   "id": "0b3731ae",
   "metadata": {},
   "outputs": [
    {
     "data": {
      "text/plain": [
       "'Merhaba Dünya'"
      ]
     },
     "execution_count": 31,
     "metadata": {},
     "output_type": "execute_result"
    }
   ],
   "source": [
    "\"Merhaba Dünya\""
   ]
  },
  {
   "cell_type": "code",
   "execution_count": 32,
   "id": "18a002cc",
   "metadata": {},
   "outputs": [],
   "source": [
    "x= \"Merhaba Dünya\""
   ]
  },
  {
   "cell_type": "code",
   "execution_count": 33,
   "id": "9008705f",
   "metadata": {},
   "outputs": [],
   "source": [
    "## daha önce x'i int veri tipinde kullanmıştık \n",
    "## ama python'ın kolaylığı sayayesinde string atayabildik "
   ]
  },
  {
   "cell_type": "code",
   "execution_count": 34,
   "id": "7de1a19d",
   "metadata": {},
   "outputs": [],
   "source": [
    "x=10"
   ]
  },
  {
   "cell_type": "code",
   "execution_count": 35,
   "id": "c1c45189",
   "metadata": {},
   "outputs": [],
   "source": [
    "x=\"hello\""
   ]
  },
  {
   "cell_type": "code",
   "execution_count": 36,
   "id": "eb851e9f",
   "metadata": {},
   "outputs": [
    {
     "data": {
      "text/plain": [
       "str"
      ]
     },
     "execution_count": 36,
     "metadata": {},
     "output_type": "execute_result"
    }
   ],
   "source": [
    "type(x)"
   ]
  },
  {
   "cell_type": "code",
   "execution_count": 37,
   "id": "332f46b2",
   "metadata": {},
   "outputs": [],
   "source": [
    "y='yeni string'"
   ]
  },
  {
   "cell_type": "code",
   "execution_count": 38,
   "id": "6bff984a",
   "metadata": {},
   "outputs": [
    {
     "data": {
      "text/plain": [
       "str"
      ]
     },
     "execution_count": 38,
     "metadata": {},
     "output_type": "execute_result"
    }
   ],
   "source": [
    "type(y)"
   ]
  },
  {
   "cell_type": "code",
   "execution_count": 39,
   "id": "2c55a812",
   "metadata": {},
   "outputs": [
    {
     "data": {
      "text/plain": [
       "\"Atıl'ın Yeri\""
      ]
     },
     "execution_count": 39,
     "metadata": {},
     "output_type": "execute_result"
    }
   ],
   "source": [
    "\"Atıl'ın Yeri\""
   ]
  },
  {
   "cell_type": "code",
   "execution_count": 40,
   "id": "672cf90c",
   "metadata": {},
   "outputs": [],
   "source": [
    "## Tek tırnak çift tırnak açmadan önce string ifade yazarken kullanacağın\n",
    "## cümleye göre tırnak açılmalı"
   ]
  },
  {
   "cell_type": "code",
   "execution_count": 41,
   "id": "f75c9c20",
   "metadata": {},
   "outputs": [],
   "source": [
    "a=5"
   ]
  },
  {
   "cell_type": "code",
   "execution_count": 42,
   "id": "99ab8668",
   "metadata": {},
   "outputs": [
    {
     "data": {
      "text/plain": [
       "<function str.capitalize()>"
      ]
     },
     "execution_count": 42,
     "metadata": {},
     "output_type": "execute_result"
    }
   ],
   "source": [
    "y.capitalize"
   ]
  },
  {
   "cell_type": "code",
   "execution_count": 43,
   "id": "47ca95f6",
   "metadata": {},
   "outputs": [
    {
     "data": {
      "text/plain": [
       "'Yeni string'"
      ]
     },
     "execution_count": 43,
     "metadata": {},
     "output_type": "execute_result"
    }
   ],
   "source": [
    "y.capitalize()"
   ]
  },
  {
   "cell_type": "code",
   "execution_count": 44,
   "id": "934afd16",
   "metadata": {},
   "outputs": [],
   "source": [
    "## capitalize fonksiyonu ilk harfi büyük yapar"
   ]
  },
  {
   "cell_type": "code",
   "execution_count": 45,
   "id": "52c89784",
   "metadata": {},
   "outputs": [],
   "source": [
    "myString=\"Alperen ALP\""
   ]
  },
  {
   "cell_type": "code",
   "execution_count": 46,
   "id": "6414ff34",
   "metadata": {},
   "outputs": [
    {
     "data": {
      "text/plain": [
       "'Alperen ALPyeni string'"
      ]
     },
     "execution_count": 46,
     "metadata": {},
     "output_type": "execute_result"
    }
   ],
   "source": [
    "myString+y"
   ]
  },
  {
   "cell_type": "markdown",
   "id": "e9c300bf",
   "metadata": {},
   "source": [
    "## Veri tiplerini birbirine dönüştürme işlemi"
   ]
  },
  {
   "cell_type": "code",
   "execution_count": 47,
   "id": "b8ee084e",
   "metadata": {},
   "outputs": [
    {
     "name": "stdout",
     "output_type": "stream",
     "text": [
      "Yaşınızı Giriniz: 33\n"
     ]
    }
   ],
   "source": [
    "myInput=input(\"Yaşınızı Giriniz: \")"
   ]
  },
  {
   "cell_type": "code",
   "execution_count": 48,
   "id": "4fbd7cff",
   "metadata": {},
   "outputs": [
    {
     "data": {
      "text/plain": [
       "str"
      ]
     },
     "execution_count": 48,
     "metadata": {},
     "output_type": "execute_result"
    }
   ],
   "source": [
    "type(myInput)"
   ]
  },
  {
   "cell_type": "code",
   "execution_count": 49,
   "id": "d39398a9",
   "metadata": {},
   "outputs": [],
   "source": [
    "myIntInput= int(myInput)"
   ]
  },
  {
   "cell_type": "code",
   "execution_count": 50,
   "id": "8f92fdf3",
   "metadata": {},
   "outputs": [
    {
     "data": {
      "text/plain": [
       "int"
      ]
     },
     "execution_count": 50,
     "metadata": {},
     "output_type": "execute_result"
    }
   ],
   "source": [
    "type(myIntInput)"
   ]
  },
  {
   "cell_type": "code",
   "execution_count": 51,
   "id": "40c3f5ef",
   "metadata": {},
   "outputs": [
    {
     "data": {
      "text/plain": [
       "33"
      ]
     },
     "execution_count": 51,
     "metadata": {},
     "output_type": "execute_result"
    }
   ],
   "source": [
    "myIntInput"
   ]
  },
  {
   "cell_type": "code",
   "execution_count": null,
   "id": "3d5a283d",
   "metadata": {},
   "outputs": [],
   "source": [
    "## string uzunluk bulma"
   ]
  },
  {
   "cell_type": "code",
   "execution_count": 53,
   "id": "8955aaaf",
   "metadata": {},
   "outputs": [],
   "source": [
    "k = \"Samancıoğlu\""
   ]
  },
  {
   "cell_type": "code",
   "execution_count": 54,
   "id": "1fc6d9ff",
   "metadata": {},
   "outputs": [
    {
     "data": {
      "text/plain": [
       "11"
      ]
     },
     "execution_count": 54,
     "metadata": {},
     "output_type": "execute_result"
    }
   ],
   "source": [
    "len(k)"
   ]
  },
  {
   "cell_type": "code",
   "execution_count": 55,
   "id": "b4ad00a1",
   "metadata": {},
   "outputs": [
    {
     "name": "stdout",
     "output_type": "stream",
     "text": [
      "Merhaba \n",
      "Python\n"
     ]
    }
   ],
   "source": [
    "print(\"Merhaba \\nPython\")"
   ]
  },
  {
   "cell_type": "markdown",
   "id": "aad47529",
   "metadata": {},
   "source": [
    "## Slicing Videosu "
   ]
  },
  {
   "cell_type": "markdown",
   "id": "9c3424a0",
   "metadata": {},
   "source": [
    "## Indexleme"
   ]
  },
  {
   "cell_type": "code",
   "execution_count": 57,
   "id": "8f2e0d68",
   "metadata": {},
   "outputs": [],
   "source": [
    "isim= \"Atıl Samancıoğlu\""
   ]
  },
  {
   "cell_type": "code",
   "execution_count": 58,
   "id": "0e03caf1",
   "metadata": {},
   "outputs": [
    {
     "data": {
      "text/plain": [
       "'Atıl Samancıoğlu'"
      ]
     },
     "execution_count": 58,
     "metadata": {},
     "output_type": "execute_result"
    }
   ],
   "source": [
    "isim"
   ]
  },
  {
   "cell_type": "code",
   "execution_count": 59,
   "id": "28c53559",
   "metadata": {},
   "outputs": [
    {
     "data": {
      "text/plain": [
       "'A'"
      ]
     },
     "execution_count": 59,
     "metadata": {},
     "output_type": "execute_result"
    }
   ],
   "source": [
    "isim[0]"
   ]
  },
  {
   "cell_type": "code",
   "execution_count": 60,
   "id": "d8549961",
   "metadata": {},
   "outputs": [
    {
     "data": {
      "text/plain": [
       "'m'"
      ]
     },
     "execution_count": 60,
     "metadata": {},
     "output_type": "execute_result"
    }
   ],
   "source": [
    "isim[7]"
   ]
  },
  {
   "cell_type": "code",
   "execution_count": 61,
   "id": "10b7399c",
   "metadata": {},
   "outputs": [
    {
     "data": {
      "text/plain": [
       "'u'"
      ]
     },
     "execution_count": 61,
     "metadata": {},
     "output_type": "execute_result"
    }
   ],
   "source": [
    "isim[-1]"
   ]
  },
  {
   "cell_type": "code",
   "execution_count": 62,
   "id": "eb79d1e4",
   "metadata": {},
   "outputs": [],
   "source": [
    "## pythona özel -1 yazarsak string ifadenin son karakterini getirir"
   ]
  },
  {
   "cell_type": "markdown",
   "id": "a1b3fabb",
   "metadata": {},
   "source": [
    "## Slicing Kesme"
   ]
  },
  {
   "cell_type": "code",
   "execution_count": 63,
   "id": "3e517ff2",
   "metadata": {},
   "outputs": [],
   "source": [
    "yeniString=\"0123456789\""
   ]
  },
  {
   "cell_type": "code",
   "execution_count": 64,
   "id": "2935aeb5",
   "metadata": {},
   "outputs": [
    {
     "data": {
      "text/plain": [
       "'23456789'"
      ]
     },
     "execution_count": 64,
     "metadata": {},
     "output_type": "execute_result"
    }
   ],
   "source": [
    "yeniString[2:]"
   ]
  },
  {
   "cell_type": "code",
   "execution_count": 65,
   "id": "fc4bbe62",
   "metadata": {},
   "outputs": [],
   "source": [
    "harfString=\"abcdefgh\""
   ]
  },
  {
   "cell_type": "code",
   "execution_count": 66,
   "id": "09a2e507",
   "metadata": {},
   "outputs": [
    {
     "data": {
      "text/plain": [
       "'defgh'"
      ]
     },
     "execution_count": 66,
     "metadata": {},
     "output_type": "execute_result"
    }
   ],
   "source": [
    "harfString[3:]"
   ]
  },
  {
   "cell_type": "code",
   "execution_count": 67,
   "id": "dfa8086e",
   "metadata": {},
   "outputs": [
    {
     "data": {
      "text/plain": [
       "'abc'"
      ]
     },
     "execution_count": 67,
     "metadata": {},
     "output_type": "execute_result"
    }
   ],
   "source": [
    "harfString[:3]"
   ]
  },
  {
   "cell_type": "code",
   "execution_count": 69,
   "id": "9c0d723d",
   "metadata": {},
   "outputs": [],
   "source": [
    "gelenVeri= \"AhmetinYasi45\""
   ]
  },
  {
   "cell_type": "code",
   "execution_count": 70,
   "id": "59a1378b",
   "metadata": {},
   "outputs": [
    {
     "data": {
      "text/plain": [
       "'45'"
      ]
     },
     "execution_count": 70,
     "metadata": {},
     "output_type": "execute_result"
    }
   ],
   "source": [
    "gelenVeri[-2:]"
   ]
  },
  {
   "cell_type": "code",
   "execution_count": 71,
   "id": "0a5e8834",
   "metadata": {},
   "outputs": [
    {
     "data": {
      "text/plain": [
       "'met'"
      ]
     },
     "execution_count": 71,
     "metadata": {},
     "output_type": "execute_result"
    }
   ],
   "source": [
    "gelenVeri[2:5]"
   ]
  },
  {
   "cell_type": "code",
   "execution_count": 72,
   "id": "090e3df9",
   "metadata": {},
   "outputs": [],
   "source": [
    "## gelenVeri[2:5] deki 2 başlangıç indexi 5 bitiş indexi"
   ]
  },
  {
   "cell_type": "code",
   "execution_count": 74,
   "id": "65b4b25c",
   "metadata": {},
   "outputs": [
    {
     "data": {
      "text/plain": [
       "'Aens5'"
      ]
     },
     "execution_count": 74,
     "metadata": {},
     "output_type": "execute_result"
    }
   ],
   "source": [
    "gelenVeri[::3]"
   ]
  },
  {
   "cell_type": "code",
   "execution_count": 76,
   "id": "1b48b627",
   "metadata": {},
   "outputs": [],
   "source": [
    "## Step Size 3 er 3 er atlayarak yazdırma"
   ]
  },
  {
   "cell_type": "code",
   "execution_count": 77,
   "id": "5579aad9",
   "metadata": {},
   "outputs": [
    {
     "data": {
      "text/plain": [
       "'54isaYnitemhA'"
      ]
     },
     "execution_count": 77,
     "metadata": {},
     "output_type": "execute_result"
    }
   ],
   "source": [
    "gelenVeri[::-1]"
   ]
  },
  {
   "cell_type": "code",
   "execution_count": 78,
   "id": "776440d7",
   "metadata": {},
   "outputs": [],
   "source": [
    "## step size ile tersten yazma"
   ]
  },
  {
   "cell_type": "code",
   "execution_count": 1,
   "id": "454dc2ab",
   "metadata": {},
   "outputs": [],
   "source": [
    "benimIsmim = \"alperen\""
   ]
  },
  {
   "cell_type": "code",
   "execution_count": 2,
   "id": "12450c7c",
   "metadata": {},
   "outputs": [
    {
     "data": {
      "text/plain": [
       "'alperen'"
      ]
     },
     "execution_count": 2,
     "metadata": {},
     "output_type": "execute_result"
    }
   ],
   "source": [
    "benimIsmim"
   ]
  },
  {
   "cell_type": "code",
   "execution_count": 3,
   "id": "ce266045",
   "metadata": {},
   "outputs": [
    {
     "data": {
      "text/plain": [
       "'Alperen'"
      ]
     },
     "execution_count": 3,
     "metadata": {},
     "output_type": "execute_result"
    }
   ],
   "source": [
    "benimIsmim.capitalize()"
   ]
  },
  {
   "cell_type": "code",
   "execution_count": 4,
   "id": "1fa04be6",
   "metadata": {},
   "outputs": [],
   "source": [
    "benimIsmim=benimIsmim.capitalize()"
   ]
  },
  {
   "cell_type": "code",
   "execution_count": 5,
   "id": "b3b242c2",
   "metadata": {},
   "outputs": [
    {
     "data": {
      "text/plain": [
       "'Alperen'"
      ]
     },
     "execution_count": 5,
     "metadata": {},
     "output_type": "execute_result"
    }
   ],
   "source": [
    "benimIsmim"
   ]
  },
  {
   "cell_type": "code",
   "execution_count": 6,
   "id": "16c71b7e",
   "metadata": {},
   "outputs": [],
   "source": [
    "benimTamIsmim=\"Alperen Alp\""
   ]
  },
  {
   "cell_type": "code",
   "execution_count": 7,
   "id": "db25d7c6",
   "metadata": {},
   "outputs": [
    {
     "data": {
      "text/plain": [
       "['Alperen', 'Alp']"
      ]
     },
     "execution_count": 7,
     "metadata": {},
     "output_type": "execute_result"
    }
   ],
   "source": [
    "benimTamIsmim.split()"
   ]
  },
  {
   "cell_type": "code",
   "execution_count": 8,
   "id": "636086a9",
   "metadata": {},
   "outputs": [
    {
     "data": {
      "text/plain": [
       "'ALPEREN ALP'"
      ]
     },
     "execution_count": 8,
     "metadata": {},
     "output_type": "execute_result"
    }
   ],
   "source": [
    "benimTamIsmim.upper()"
   ]
  },
  {
   "cell_type": "markdown",
   "id": "00dcd688",
   "metadata": {},
   "source": [
    "## Listeler"
   ]
  },
  {
   "cell_type": "code",
   "execution_count": 11,
   "id": "413524e5",
   "metadata": {},
   "outputs": [],
   "source": [
    "nestedList=[1,5,\"atıl\",4,[6,\"z\"]]"
   ]
  },
  {
   "cell_type": "code",
   "execution_count": 12,
   "id": "e22b9c4b",
   "metadata": {},
   "outputs": [],
   "source": [
    "listedenAl=nestedList[4][1];"
   ]
  },
  {
   "cell_type": "code",
   "execution_count": 13,
   "id": "fa52385e",
   "metadata": {},
   "outputs": [
    {
     "data": {
      "text/plain": [
       "'z'"
      ]
     },
     "execution_count": 13,
     "metadata": {},
     "output_type": "execute_result"
    }
   ],
   "source": [
    "listedenAl"
   ]
  },
  {
   "cell_type": "markdown",
   "id": "303e586a",
   "metadata": {},
   "source": [
    "## Sözlükler"
   ]
  },
  {
   "cell_type": "code",
   "execution_count": 14,
   "id": "4a523b5e",
   "metadata": {},
   "outputs": [],
   "source": [
    "Yemeklerim = [\"Elma\", \"Karpuz\", \"Muz\"]"
   ]
  },
  {
   "cell_type": "code",
   "execution_count": 15,
   "id": "eb12841a",
   "metadata": {},
   "outputs": [],
   "source": [
    "Kalorilerim = [100,200,300]"
   ]
  },
  {
   "cell_type": "code",
   "execution_count": 16,
   "id": "2ec5487e",
   "metadata": {},
   "outputs": [
    {
     "data": {
      "text/plain": [
       "'Karpuz'"
      ]
     },
     "execution_count": 16,
     "metadata": {},
     "output_type": "execute_result"
    }
   ],
   "source": [
    "Yemeklerim[1\n",
    "        ]"
   ]
  },
  {
   "cell_type": "code",
   "execution_count": 17,
   "id": "a75f4a1b",
   "metadata": {},
   "outputs": [
    {
     "data": {
      "text/plain": [
       "200"
      ]
     },
     "execution_count": 17,
     "metadata": {},
     "output_type": "execute_result"
    }
   ],
   "source": [
    "Kalorilerim[1]"
   ]
  },
  {
   "cell_type": "code",
   "execution_count": 18,
   "id": "e99580c8",
   "metadata": {},
   "outputs": [],
   "source": [
    "## bu şekilde bir uygulamamız olsun çok büyük veri setlerinde \n",
    "## ya kalori indeksi kaysaydı sıkıntı yaşardık"
   ]
  },
  {
   "cell_type": "code",
   "execution_count": 19,
   "id": "a2075d20",
   "metadata": {},
   "outputs": [],
   "source": [
    "##dictionary(sözlük) burda devreye girer"
   ]
  },
  {
   "cell_type": "code",
   "execution_count": 20,
   "id": "2ce32746",
   "metadata": {},
   "outputs": [],
   "source": [
    "sozluk = {\"anahtarKelime\":\"deger\"}"
   ]
  },
  {
   "cell_type": "code",
   "execution_count": 21,
   "id": "ce07308e",
   "metadata": {},
   "outputs": [
    {
     "data": {
      "text/plain": [
       "dict"
      ]
     },
     "execution_count": 21,
     "metadata": {},
     "output_type": "execute_result"
    }
   ],
   "source": [
    "type(sozluk)"
   ]
  },
  {
   "cell_type": "code",
   "execution_count": 24,
   "id": "09c00153",
   "metadata": {},
   "outputs": [
    {
     "data": {
      "text/plain": [
       "'deger'"
      ]
     },
     "execution_count": 24,
     "metadata": {},
     "output_type": "execute_result"
    }
   ],
   "source": [
    "sozluk[\"anahtarKelime\"]"
   ]
  },
  {
   "cell_type": "code",
   "execution_count": 25,
   "id": "768396ee",
   "metadata": {},
   "outputs": [],
   "source": [
    "YemekKaloriSozlugum={\"elma\":100, \"karpuz\":200, \"muz\":300}"
   ]
  },
  {
   "cell_type": "code",
   "execution_count": 26,
   "id": "18d3a1f9",
   "metadata": {},
   "outputs": [
    {
     "data": {
      "text/plain": [
       "300"
      ]
     },
     "execution_count": 26,
     "metadata": {},
     "output_type": "execute_result"
    }
   ],
   "source": [
    "YemekKaloriSozlugum[\"muz\"]"
   ]
  },
  {
   "cell_type": "code",
   "execution_count": 27,
   "id": "dd707ce4",
   "metadata": {},
   "outputs": [],
   "source": [
    "YemekKaloriSozlugum[\"elma\"]=500"
   ]
  },
  {
   "cell_type": "code",
   "execution_count": 28,
   "id": "4d2f8f25",
   "metadata": {},
   "outputs": [
    {
     "data": {
      "text/plain": [
       "{'elma': 500, 'karpuz': 200, 'muz': 300}"
      ]
     },
     "execution_count": 28,
     "metadata": {},
     "output_type": "execute_result"
    }
   ],
   "source": [
    "YemekKaloriSozlugum"
   ]
  },
  {
   "cell_type": "code",
   "execution_count": 29,
   "id": "d11a0857",
   "metadata": {},
   "outputs": [],
   "source": [
    "yeniDictionary = {\"anahtar1\":100, \"anahtar2\": [10,20,30,40,4.5,\"atıl\"],\"anahtar3\":{\"anahtar9\":4}}"
   ]
  },
  {
   "cell_type": "code",
   "execution_count": 30,
   "id": "86a24b33",
   "metadata": {},
   "outputs": [
    {
     "data": {
      "text/plain": [
       "dict_keys(['anahtar1', 'anahtar2', 'anahtar3'])"
      ]
     },
     "execution_count": 30,
     "metadata": {},
     "output_type": "execute_result"
    }
   ],
   "source": [
    "yeniDictionary.keys()"
   ]
  },
  {
   "cell_type": "code",
   "execution_count": 31,
   "id": "6e7515c3",
   "metadata": {},
   "outputs": [
    {
     "data": {
      "text/plain": [
       "dict_values([100, [10, 20, 30, 40, 4.5, 'atıl'], {'anahtar9': 4}])"
      ]
     },
     "execution_count": 31,
     "metadata": {},
     "output_type": "execute_result"
    }
   ],
   "source": [
    "yeniDictionary.values()"
   ]
  },
  {
   "cell_type": "code",
   "execution_count": 32,
   "id": "0e3c1870",
   "metadata": {},
   "outputs": [
    {
     "data": {
      "text/plain": [
       "'atıl'"
      ]
     },
     "execution_count": 32,
     "metadata": {},
     "output_type": "execute_result"
    }
   ],
   "source": [
    "yeniDictionary[\"anahtar2\"][5]"
   ]
  },
  {
   "cell_type": "code",
   "execution_count": 33,
   "id": "99d365a3",
   "metadata": {},
   "outputs": [
    {
     "data": {
      "text/plain": [
       "4"
      ]
     },
     "execution_count": 33,
     "metadata": {},
     "output_type": "execute_result"
    }
   ],
   "source": [
    "yeniDictionary[\"anahtar3\"][\"anahtar9\"]"
   ]
  },
  {
   "cell_type": "markdown",
   "id": "f3f9a56c",
   "metadata": {},
   "source": [
    "## Set Koleksiyonu"
   ]
  },
  {
   "cell_type": "code",
   "execution_count": 34,
   "id": "6aa5c1a6",
   "metadata": {},
   "outputs": [],
   "source": [
    "benimListem= [1,2,3,1,2,3]"
   ]
  },
  {
   "cell_type": "code",
   "execution_count": 35,
   "id": "c449a47d",
   "metadata": {},
   "outputs": [
    {
     "data": {
      "text/plain": [
       "[1, 2, 3, 1, 2, 3]"
      ]
     },
     "execution_count": 35,
     "metadata": {},
     "output_type": "execute_result"
    }
   ],
   "source": [
    "benimListem"
   ]
  },
  {
   "cell_type": "code",
   "execution_count": 36,
   "id": "b4ea2b24",
   "metadata": {},
   "outputs": [],
   "source": [
    "setListem=set(benimListem)"
   ]
  },
  {
   "cell_type": "code",
   "execution_count": 37,
   "id": "d52af977",
   "metadata": {},
   "outputs": [
    {
     "data": {
      "text/plain": [
       "{1, 2, 3}"
      ]
     },
     "execution_count": 37,
     "metadata": {},
     "output_type": "execute_result"
    }
   ],
   "source": [
    "setListem"
   ]
  },
  {
   "cell_type": "code",
   "execution_count": 38,
   "id": "8d548e44",
   "metadata": {},
   "outputs": [
    {
     "data": {
      "text/plain": [
       "list"
      ]
     },
     "execution_count": 38,
     "metadata": {},
     "output_type": "execute_result"
    }
   ],
   "source": [
    "type(benimListem)"
   ]
  },
  {
   "cell_type": "code",
   "execution_count": 39,
   "id": "49599ce6",
   "metadata": {},
   "outputs": [
    {
     "data": {
      "text/plain": [
       "set"
      ]
     },
     "execution_count": 39,
     "metadata": {},
     "output_type": "execute_result"
    }
   ],
   "source": [
    "type(setListem)"
   ]
  },
  {
   "cell_type": "code",
   "execution_count": 40,
   "id": "506df32e",
   "metadata": {},
   "outputs": [],
   "source": [
    "benimSet={\"a\",\"b\",\"c\"}"
   ]
  },
  {
   "cell_type": "code",
   "execution_count": 41,
   "id": "f1a8980a",
   "metadata": {},
   "outputs": [
    {
     "data": {
      "text/plain": [
       "set"
      ]
     },
     "execution_count": 41,
     "metadata": {},
     "output_type": "execute_result"
    }
   ],
   "source": [
    "type(benimSet)"
   ]
  },
  {
   "cell_type": "markdown",
   "id": "7715ae9b",
   "metadata": {},
   "source": [
    "## Tuple Koleksiyonu"
   ]
  },
  {
   "cell_type": "code",
   "execution_count": 42,
   "id": "e2d8a403",
   "metadata": {},
   "outputs": [],
   "source": [
    "## Listeye çok benzer tek farkı Liste içindeki değerler değiştirilemez."
   ]
  },
  {
   "cell_type": "code",
   "execution_count": 1,
   "id": "3ba8b742",
   "metadata": {},
   "outputs": [],
   "source": [
    "benimTuple = (1,2,\"a\",4.5)"
   ]
  },
  {
   "cell_type": "code",
   "execution_count": 2,
   "id": "b2bfc94b",
   "metadata": {},
   "outputs": [
    {
     "data": {
      "text/plain": [
       "(1, 2, 'a', 4.5)"
      ]
     },
     "execution_count": 2,
     "metadata": {},
     "output_type": "execute_result"
    }
   ],
   "source": [
    "benimTuple"
   ]
  },
  {
   "cell_type": "code",
   "execution_count": 3,
   "id": "25027fb9",
   "metadata": {},
   "outputs": [
    {
     "ename": "TypeError",
     "evalue": "'tuple' object does not support item assignment",
     "output_type": "error",
     "traceback": [
      "\u001b[1;31m---------------------------------------------------------------------------\u001b[0m",
      "\u001b[1;31mTypeError\u001b[0m                                 Traceback (most recent call last)",
      "\u001b[1;32m~\\AppData\\Local\\Temp/ipykernel_4684/690916073.py\u001b[0m in \u001b[0;36m<module>\u001b[1;34m\u001b[0m\n\u001b[1;32m----> 1\u001b[1;33m \u001b[0mbenimTuple\u001b[0m\u001b[1;33m[\u001b[0m\u001b[1;36m0\u001b[0m\u001b[1;33m]\u001b[0m\u001b[1;33m=\u001b[0m\u001b[1;36m100\u001b[0m\u001b[1;33m\u001b[0m\u001b[1;33m\u001b[0m\u001b[0m\n\u001b[0m",
      "\u001b[1;31mTypeError\u001b[0m: 'tuple' object does not support item assignment"
     ]
    }
   ],
   "source": [
    "benimTuple[0]=100"
   ]
  },
  {
   "cell_type": "markdown",
   "id": "fa8f41a6",
   "metadata": {},
   "source": [
    "## Boolean"
   ]
  },
  {
   "cell_type": "code",
   "execution_count": 4,
   "id": "7893826b",
   "metadata": {},
   "outputs": [],
   "source": [
    " benimBoolean = True"
   ]
  },
  {
   "cell_type": "code",
   "execution_count": 5,
   "id": "713dcc02",
   "metadata": {},
   "outputs": [
    {
     "data": {
      "text/plain": [
       "bool"
      ]
     },
     "execution_count": 5,
     "metadata": {},
     "output_type": "execute_result"
    }
   ],
   "source": [
    "type(benimBoolean)"
   ]
  },
  {
   "cell_type": "markdown",
   "id": "8b0ad1a9",
   "metadata": {},
   "source": [
    "## Eğer Kontrolleri"
   ]
  },
  {
   "cell_type": "code",
   "execution_count": 6,
   "id": "ab5812b4",
   "metadata": {},
   "outputs": [],
   "source": [
    "karakterCanli=True"
   ]
  },
  {
   "cell_type": "code",
   "execution_count": 10,
   "id": "eca81191",
   "metadata": {},
   "outputs": [
    {
     "name": "stdout",
     "output_type": "stream",
     "text": [
      "Karakter Yaşıyor\n"
     ]
    }
   ],
   "source": [
    "if karakterCanli:\n",
    "    print(\"Karakter Yaşıyor\")\n",
    "else:\n",
    "    print(\"Karakter Yaşamıyor\")"
   ]
  },
  {
   "cell_type": "code",
   "execution_count": 14,
   "id": "92d44144",
   "metadata": {},
   "outputs": [],
   "source": [
    "benimString = \"Atıl Samancıoğlu\""
   ]
  },
  {
   "cell_type": "code",
   "execution_count": 15,
   "id": "9d21b0ce",
   "metadata": {},
   "outputs": [
    {
     "name": "stdout",
     "output_type": "stream",
     "text": [
      "eşit değilmiş\n"
     ]
    }
   ],
   "source": [
    "if benimString == \"atıl samancıoğlu\":\n",
    "    print(\"eşitmiş\")\n",
    "else:\n",
    "    print(\"eşit değilmiş\")"
   ]
  },
  {
   "cell_type": "code",
   "execution_count": 16,
   "id": "d083561d",
   "metadata": {},
   "outputs": [
    {
     "name": "stdout",
     "output_type": "stream",
     "text": [
      "varmış\n"
     ]
    }
   ],
   "source": [
    "if \"cıoğlu\" in benimString:\n",
    "    print(\"varmış\")\n",
    "else:\n",
    "    print(\"yokmuş\")"
   ]
  },
  {
   "cell_type": "code",
   "execution_count": 17,
   "id": "9b0dd4ca",
   "metadata": {},
   "outputs": [],
   "source": [
    "benimListem = [10,20,30,40,50]"
   ]
  },
  {
   "cell_type": "code",
   "execution_count": 18,
   "id": "a40b5f2f",
   "metadata": {},
   "outputs": [
    {
     "name": "stdout",
     "output_type": "stream",
     "text": [
      "evet var\n"
     ]
    }
   ],
   "source": [
    "if 10 in benimListem:\n",
    "    print(\"evet var\")"
   ]
  },
  {
   "cell_type": "code",
   "execution_count": 19,
   "id": "c61b1439",
   "metadata": {},
   "outputs": [],
   "source": [
    "benimSozluk = {\"muz\":100,\"elma\":150,\"karpuz\":500}"
   ]
  },
  {
   "cell_type": "code",
   "execution_count": 20,
   "id": "213023c8",
   "metadata": {},
   "outputs": [
    {
     "name": "stdout",
     "output_type": "stream",
     "text": [
      "varmış\n"
     ]
    }
   ],
   "source": [
    "if \"muz\" in benimSozluk.keys():\n",
    "    print(\"varmış\")"
   ]
  },
  {
   "cell_type": "code",
   "execution_count": 21,
   "id": "841edf3c",
   "metadata": {},
   "outputs": [
    {
     "name": "stdout",
     "output_type": "stream",
     "text": [
      "var kardeş\n"
     ]
    }
   ],
   "source": [
    "if 500 in benimSozluk.values():\n",
    "    print(\"var kardeş\")"
   ]
  },
  {
   "cell_type": "markdown",
   "id": "d8688ac6",
   "metadata": {},
   "source": [
    "# For Döngüsü "
   ]
  },
  {
   "cell_type": "code",
   "execution_count": 3,
   "id": "75da7cda",
   "metadata": {},
   "outputs": [],
   "source": [
    "yeniListe=[1,2,3,4,5,6]"
   ]
  },
  {
   "cell_type": "code",
   "execution_count": 4,
   "id": "a01352be",
   "metadata": {},
   "outputs": [
    {
     "name": "stdout",
     "output_type": "stream",
     "text": [
      "2\n",
      "4\n",
      "6\n"
     ]
    }
   ],
   "source": [
    "for num in yeniListe:\n",
    "    if num%2==0:\n",
    "        print(num)\n",
    "    "
   ]
  },
  {
   "cell_type": "code",
   "execution_count": 5,
   "id": "75b14a04",
   "metadata": {},
   "outputs": [],
   "source": [
    "yeniString = \"Alperen\""
   ]
  },
  {
   "cell_type": "code",
   "execution_count": 6,
   "id": "94ed75a7",
   "metadata": {},
   "outputs": [
    {
     "name": "stdout",
     "output_type": "stream",
     "text": [
      "A\n",
      "l\n",
      "p\n",
      "e\n",
      "r\n",
      "e\n",
      "n\n"
     ]
    }
   ],
   "source": [
    "for harf in yeniString:\n",
    "    print(harf)"
   ]
  },
  {
   "cell_type": "code",
   "execution_count": 7,
   "id": "f5cbb7f4",
   "metadata": {},
   "outputs": [],
   "source": [
    "koordinatListesi=[(10.2,15.2),(32.4,16.2),(40.2,20.2)]"
   ]
  },
  {
   "cell_type": "code",
   "execution_count": 9,
   "id": "53b6800d",
   "metadata": {},
   "outputs": [
    {
     "data": {
      "text/plain": [
       "tuple"
      ]
     },
     "execution_count": 9,
     "metadata": {},
     "output_type": "execute_result"
    }
   ],
   "source": [
    "type(koordinatListesi[0])"
   ]
  },
  {
   "cell_type": "code",
   "execution_count": 10,
   "id": "7c4cb5ea",
   "metadata": {},
   "outputs": [
    {
     "name": "stdout",
     "output_type": "stream",
     "text": [
      "(10.2, 15.2)\n",
      "(32.4, 16.2)\n",
      "(40.2, 20.2)\n"
     ]
    }
   ],
   "source": [
    "for eleman in koordinatListesi:\n",
    "    print(eleman)"
   ]
  },
  {
   "cell_type": "code",
   "execution_count": 11,
   "id": "8b1d9d36",
   "metadata": {},
   "outputs": [
    {
     "name": "stdout",
     "output_type": "stream",
     "text": [
      "10.2\n",
      "32.4\n",
      "40.2\n"
     ]
    }
   ],
   "source": [
    "for (x,y) in koordinatListesi:\n",
    "    print(x)"
   ]
  },
  {
   "cell_type": "code",
   "execution_count": 12,
   "id": "a06ce352",
   "metadata": {},
   "outputs": [],
   "source": [
    "benimSozluk={\"muz\":150, \"portakal\":250, \"elma\":400}"
   ]
  },
  {
   "cell_type": "code",
   "execution_count": 13,
   "id": "b28cb4c8",
   "metadata": {},
   "outputs": [
    {
     "data": {
      "text/plain": [
       "dict_items([('muz', 150), ('portakal', 250), ('elma', 400)])"
      ]
     },
     "execution_count": 13,
     "metadata": {},
     "output_type": "execute_result"
    }
   ],
   "source": [
    "benimSozluk.items()"
   ]
  },
  {
   "cell_type": "code",
   "execution_count": 14,
   "id": "338b3249",
   "metadata": {},
   "outputs": [],
   "source": [
    "## Tuple olarak verdi"
   ]
  },
  {
   "cell_type": "code",
   "execution_count": 15,
   "id": "a6186fb3",
   "metadata": {},
   "outputs": [
    {
     "name": "stdout",
     "output_type": "stream",
     "text": [
      "150\n",
      "250\n",
      "400\n"
     ]
    }
   ],
   "source": [
    "for(anahtar, deger) in benimSozluk.items():\n",
    "    print(deger)"
   ]
  },
  {
   "cell_type": "code",
   "execution_count": 20,
   "id": "a0768c50",
   "metadata": {},
   "outputs": [],
   "source": [
    "benimListem=[5,10,15,20,25,30]"
   ]
  },
  {
   "cell_type": "code",
   "execution_count": 21,
   "id": "2082c8a6",
   "metadata": {},
   "outputs": [
    {
     "name": "stdout",
     "output_type": "stream",
     "text": [
      "5\n",
      "10\n",
      "20\n",
      "25\n",
      "30\n"
     ]
    }
   ],
   "source": [
    "for numara in benimListem:\n",
    "    if numara==15:\n",
    "        continue\n",
    "    print(numara)"
   ]
  },
  {
   "cell_type": "markdown",
   "id": "2ccb0e7e",
   "metadata": {},
   "source": [
    "## While Dongusu"
   ]
  },
  {
   "cell_type": "code",
   "execution_count": 22,
   "id": "961509be",
   "metadata": {},
   "outputs": [
    {
     "name": "stdout",
     "output_type": "stream",
     "text": [
      "0\n",
      "1\n",
      "2\n",
      "3\n",
      "4\n",
      "5\n",
      "6\n",
      "7\n",
      "8\n",
      "9\n"
     ]
    }
   ],
   "source": [
    "x=0\n",
    "while x<10:\n",
    "    print(x)\n",
    "    x=x+1"
   ]
  },
  {
   "cell_type": "code",
   "execution_count": 23,
   "id": "f67974bc",
   "metadata": {},
   "outputs": [],
   "source": [
    "benimListem=[1,2,3,4,5]"
   ]
  },
  {
   "cell_type": "code",
   "execution_count": 24,
   "id": "a8e0b1a2",
   "metadata": {},
   "outputs": [
    {
     "data": {
      "text/plain": [
       "5"
      ]
     },
     "execution_count": 24,
     "metadata": {},
     "output_type": "execute_result"
    }
   ],
   "source": [
    "benimListem.pop()"
   ]
  },
  {
   "cell_type": "code",
   "execution_count": null,
   "id": "2e84c2a7",
   "metadata": {},
   "outputs": [],
   "source": []
  },
  {
   "cell_type": "code",
   "execution_count": 25,
   "id": "c5c46d6e",
   "metadata": {},
   "outputs": [
    {
     "data": {
      "text/plain": [
       "[1, 2, 3, 4]"
      ]
     },
     "execution_count": 25,
     "metadata": {},
     "output_type": "execute_result"
    }
   ],
   "source": [
    "benimListem"
   ]
  },
  {
   "cell_type": "code",
   "execution_count": 26,
   "id": "7e33bca0",
   "metadata": {},
   "outputs": [],
   "source": [
    "benimListem.append(99)"
   ]
  },
  {
   "cell_type": "code",
   "execution_count": 27,
   "id": "b972cdac",
   "metadata": {},
   "outputs": [
    {
     "data": {
      "text/plain": [
       "[1, 2, 3, 4, 99]"
      ]
     },
     "execution_count": 27,
     "metadata": {},
     "output_type": "execute_result"
    }
   ],
   "source": [
    "benimListem"
   ]
  },
  {
   "cell_type": "code",
   "execution_count": 28,
   "id": "30d183ea",
   "metadata": {},
   "outputs": [
    {
     "name": "stdout",
     "output_type": "stream",
     "text": [
      "3 hala listenin içerisinde\n",
      "3 hala listenin içerisinde\n",
      "3 hala listenin içerisinde\n"
     ]
    }
   ],
   "source": [
    "while 3 in benimListem:\n",
    "    print(\"3 hala listenin içerisinde\")\n",
    "    benimListem.pop()"
   ]
  },
  {
   "cell_type": "code",
   "execution_count": 29,
   "id": "0a0e44de",
   "metadata": {},
   "outputs": [
    {
     "name": "stdout",
     "output_type": "stream",
     "text": [
      "0\n",
      "1\n",
      "2\n",
      "3\n"
     ]
    }
   ],
   "source": [
    "numara=0\n",
    "while numara < 5:\n",
    "    if numara ==4:\n",
    "        break\n",
    "    print(numara)\n",
    "    numara+=1"
   ]
  },
  {
   "cell_type": "code",
   "execution_count": 35,
   "id": "79b5d16c",
   "metadata": {},
   "outputs": [
    {
     "name": "stdout",
     "output_type": "stream",
     "text": [
      "yeniDegiskenin'in güncel değeri: 0\n",
      "yeniDegiskenin'in güncel değeri: 1\n",
      "yeniDegiskenin'in güncel değeri: 2\n",
      "yeniDegiskenin'in güncel değeri: 3\n",
      "yeniDegiskenin'in güncel değeri: 4\n",
      "yeniDegiskenin'in güncel değeri: 5\n",
      "yeniDegiskenin'in güncel değeri: 6\n",
      "yeniDegiskenin'in güncel değeri: 7\n",
      "yeniDegiskenin'in güncel değeri: 8\n",
      "yeniDegiskenin'in güncel değeri: 9\n",
      "yeniDegiskenin'in güncel değeri: 10\n",
      "yeniDegiskenin'in güncel değeri: 11\n",
      "yeniDegiskenin'in güncel değeri: 12\n",
      "yeniDegiskenin'in güncel değeri: 13\n",
      "yeniDegiskenin'in güncel değeri: 14\n"
     ]
    }
   ],
   "source": [
    "yeniDegisken=0\n",
    "while yeniDegisken<15:\n",
    "    #print(\"yeniDegiskenin'in güncel değeri: \" + str(yeniDegisken)) \n",
    "    #Ustteki sekilde de yapılabilir\n",
    "    print(f\"yeniDegiskenin'in güncel değeri: {yeniDegisken}\")\n",
    "    yeniDegisken+=1"
   ]
  },
  {
   "cell_type": "markdown",
   "id": "0820948c",
   "metadata": {},
   "source": [
    "## Veri Bilimi Onemli Metodlar"
   ]
  },
  {
   "cell_type": "code",
   "execution_count": null,
   "id": "dc62f0bc",
   "metadata": {},
   "outputs": [],
   "source": [
    "# Range metodu"
   ]
  },
  {
   "cell_type": "code",
   "execution_count": 40,
   "id": "28dab23f",
   "metadata": {},
   "outputs": [
    {
     "data": {
      "text/plain": [
       "range(0, 15)"
      ]
     },
     "execution_count": 40,
     "metadata": {},
     "output_type": "execute_result"
    }
   ],
   "source": [
    "range(15)"
   ]
  },
  {
   "cell_type": "code",
   "execution_count": 41,
   "id": "50043cb7",
   "metadata": {},
   "outputs": [
    {
     "data": {
      "text/plain": [
       "[0, 1, 2, 3, 4, 5, 6, 7, 8, 9, 10, 11, 12, 13, 14]"
      ]
     },
     "execution_count": 41,
     "metadata": {},
     "output_type": "execute_result"
    }
   ],
   "source": [
    "list(range(15))"
   ]
  },
  {
   "cell_type": "code",
   "execution_count": 42,
   "id": "7bdad031",
   "metadata": {},
   "outputs": [
    {
     "data": {
      "text/plain": [
       "[5, 7, 9, 11, 13, 15, 17, 19, 21]"
      ]
     },
     "execution_count": 42,
     "metadata": {},
     "output_type": "execute_result"
    }
   ],
   "source": [
    "list(range(5,22,2))"
   ]
  },
  {
   "cell_type": "code",
   "execution_count": 43,
   "id": "d0af82f4",
   "metadata": {},
   "outputs": [],
   "source": [
    "## enumerate"
   ]
  },
  {
   "cell_type": "code",
   "execution_count": 44,
   "id": "b717de5b",
   "metadata": {},
   "outputs": [
    {
     "name": "stdout",
     "output_type": "stream",
     "text": [
      "güncel numara: 5 güncel index: 0\n",
      "güncel numara: 6 güncel index: 1\n",
      "güncel numara: 7 güncel index: 2\n",
      "güncel numara: 8 güncel index: 3\n",
      "güncel numara: 9 güncel index: 4\n",
      "güncel numara: 10 güncel index: 5\n",
      "güncel numara: 11 güncel index: 6\n",
      "güncel numara: 12 güncel index: 7\n",
      "güncel numara: 13 güncel index: 8\n",
      "güncel numara: 14 güncel index: 9\n"
     ]
    }
   ],
   "source": [
    "index=0\n",
    "for numara in list(range(5,15)):\n",
    "    print(f\"güncel numara: {numara} güncel index: {index}\")\n",
    "    index+=1"
   ]
  },
  {
   "cell_type": "code",
   "execution_count": 47,
   "id": "af89cd6b",
   "metadata": {},
   "outputs": [
    {
     "name": "stdout",
     "output_type": "stream",
     "text": [
      "(0, 5)\n",
      "(1, 6)\n",
      "(2, 7)\n",
      "(3, 8)\n",
      "(4, 9)\n",
      "(5, 10)\n",
      "(6, 11)\n",
      "(7, 12)\n",
      "(8, 13)\n",
      "(9, 14)\n"
     ]
    }
   ],
   "source": [
    "for eleman in enumerate(list(range(5,15))):\n",
    "    print(eleman)"
   ]
  },
  {
   "cell_type": "code",
   "execution_count": 48,
   "id": "eb3630d4",
   "metadata": {},
   "outputs": [
    {
     "name": "stdout",
     "output_type": "stream",
     "text": [
      "0\n",
      "1\n",
      "2\n",
      "3\n",
      "4\n",
      "5\n",
      "6\n",
      "7\n",
      "8\n",
      "9\n"
     ]
    }
   ],
   "source": [
    "for (index,numara) in enumerate(list(range(5,15))):\n",
    "    print(index)"
   ]
  },
  {
   "cell_type": "markdown",
   "id": "94dfb6b1",
   "metadata": {},
   "source": [
    "# Random"
   ]
  },
  {
   "cell_type": "code",
   "execution_count": 49,
   "id": "513353fe",
   "metadata": {},
   "outputs": [],
   "source": [
    "from random import randint"
   ]
  },
  {
   "cell_type": "code",
   "execution_count": 50,
   "id": "dc4c58ce",
   "metadata": {},
   "outputs": [
    {
     "data": {
      "text/plain": [
       "2"
      ]
     },
     "execution_count": 50,
     "metadata": {},
     "output_type": "execute_result"
    }
   ],
   "source": [
    "randint(0,100)"
   ]
  },
  {
   "cell_type": "code",
   "execution_count": 51,
   "id": "50e3bb29",
   "metadata": {},
   "outputs": [],
   "source": [
    "from random import shuffle"
   ]
  },
  {
   "cell_type": "code",
   "execution_count": 52,
   "id": "47070141",
   "metadata": {},
   "outputs": [],
   "source": [
    "yeniListe= list(range(0,10))"
   ]
  },
  {
   "cell_type": "code",
   "execution_count": 53,
   "id": "ed8874b7",
   "metadata": {},
   "outputs": [
    {
     "data": {
      "text/plain": [
       "[0, 1, 2, 3, 4, 5, 6, 7, 8, 9]"
      ]
     },
     "execution_count": 53,
     "metadata": {},
     "output_type": "execute_result"
    }
   ],
   "source": [
    "yeniListe"
   ]
  },
  {
   "cell_type": "code",
   "execution_count": 56,
   "id": "f5deac07",
   "metadata": {},
   "outputs": [],
   "source": [
    "shuffle(yeniListe)"
   ]
  },
  {
   "cell_type": "code",
   "execution_count": 57,
   "id": "49c38611",
   "metadata": {},
   "outputs": [
    {
     "data": {
      "text/plain": [
       "[5, 6, 8, 2, 7, 3, 1, 9, 4, 0]"
      ]
     },
     "execution_count": 57,
     "metadata": {},
     "output_type": "execute_result"
    }
   ],
   "source": [
    "yeniListe"
   ]
  },
  {
   "cell_type": "markdown",
   "id": "0ebee102",
   "metadata": {},
   "source": [
    "# İleri seviye işlemler"
   ]
  },
  {
   "cell_type": "code",
   "execution_count": 58,
   "id": "91cfc81c",
   "metadata": {},
   "outputs": [],
   "source": [
    "# Zip"
   ]
  },
  {
   "cell_type": "code",
   "execution_count": 60,
   "id": "5e6bfcbb",
   "metadata": {},
   "outputs": [],
   "source": [
    "yemekListesi=[\"muz\", \"ananas\", \"elma\"]\n",
    "kaloriListesi=[100,200,300]\n",
    "gunListesi=[\"pazartesi\",\"salı\",\"çarşamba\"]"
   ]
  },
  {
   "cell_type": "code",
   "execution_count": 64,
   "id": "5aba4b86",
   "metadata": {},
   "outputs": [],
   "source": [
    "ziplenmisListe=list(zip(yemekListesi,kaloriListesi,gunListesi))"
   ]
  },
  {
   "cell_type": "code",
   "execution_count": 65,
   "id": "9275de75",
   "metadata": {},
   "outputs": [
    {
     "data": {
      "text/plain": [
       "[('muz', 100, 'pazartesi'), ('ananas', 200, 'salı'), ('elma', 300, 'çarşamba')]"
      ]
     },
     "execution_count": 65,
     "metadata": {},
     "output_type": "execute_result"
    }
   ],
   "source": [
    "ziplenmisListe"
   ]
  },
  {
   "cell_type": "code",
   "execution_count": 66,
   "id": "1c81407c",
   "metadata": {},
   "outputs": [],
   "source": [
    "# Listeler"
   ]
  },
  {
   "cell_type": "code",
   "execution_count": 70,
   "id": "9d3ca7ad",
   "metadata": {},
   "outputs": [],
   "source": [
    "listeOrnegi=[]\n",
    "benimString=\"atıl samacıoğlu\"\n",
    "\n",
    "for harf in benimString:\n",
    "    listeOrnegi.append(harf)"
   ]
  },
  {
   "cell_type": "code",
   "execution_count": 71,
   "id": "4eccc38b",
   "metadata": {},
   "outputs": [
    {
     "data": {
      "text/plain": [
       "['a', 't', 'ı', 'l', ' ', 's', 'a', 'm', 'a', 'c', 'ı', 'o', 'ğ', 'l', 'u']"
      ]
     },
     "execution_count": 71,
     "metadata": {},
     "output_type": "execute_result"
    }
   ],
   "source": [
    "listeOrnegi"
   ]
  },
  {
   "cell_type": "code",
   "execution_count": 72,
   "id": "87374f87",
   "metadata": {},
   "outputs": [],
   "source": [
    "yeniString = \"atıl samancıoğlu\""
   ]
  },
  {
   "cell_type": "code",
   "execution_count": 73,
   "id": "62e66de3",
   "metadata": {},
   "outputs": [],
   "source": [
    "yeniListeOrnegi = [eleman for eleman in yeniString]"
   ]
  },
  {
   "cell_type": "code",
   "execution_count": 74,
   "id": "0d5ec13c",
   "metadata": {},
   "outputs": [
    {
     "data": {
      "text/plain": [
       "['a',\n",
       " 't',\n",
       " 'ı',\n",
       " 'l',\n",
       " ' ',\n",
       " 's',\n",
       " 'a',\n",
       " 'm',\n",
       " 'a',\n",
       " 'n',\n",
       " 'c',\n",
       " 'ı',\n",
       " 'o',\n",
       " 'ğ',\n",
       " 'l',\n",
       " 'u']"
      ]
     },
     "execution_count": 74,
     "metadata": {},
     "output_type": "execute_result"
    }
   ],
   "source": [
    "yeniListeOrnegi"
   ]
  },
  {
   "cell_type": "code",
   "execution_count": 75,
   "id": "09c7be4c",
   "metadata": {},
   "outputs": [],
   "source": [
    "ikinciListeOrnegi=[numara*5 for numara in list(range(0,10))]"
   ]
  },
  {
   "cell_type": "code",
   "execution_count": 76,
   "id": "4687994a",
   "metadata": {},
   "outputs": [
    {
     "data": {
      "text/plain": [
       "[0, 5, 10, 15, 20, 25, 30, 35, 40, 45]"
      ]
     },
     "execution_count": 76,
     "metadata": {},
     "output_type": "execute_result"
    }
   ],
   "source": [
    "ikinciListeOrnegi"
   ]
  },
  {
   "cell_type": "markdown",
   "id": "76cbfddc",
   "metadata": {},
   "source": [
    "# Fonksiyonlar"
   ]
  },
  {
   "cell_type": "code",
   "execution_count": 77,
   "id": "c6229197",
   "metadata": {},
   "outputs": [],
   "source": [
    "benimAdim=\"Alperen Alp\""
   ]
  },
  {
   "cell_type": "code",
   "execution_count": 79,
   "id": "2c37a60d",
   "metadata": {},
   "outputs": [
    {
     "data": {
      "text/plain": [
       "'ALPEREN ALP'"
      ]
     },
     "execution_count": 79,
     "metadata": {},
     "output_type": "execute_result"
    }
   ],
   "source": [
    "benimAdim.upper()"
   ]
  },
  {
   "cell_type": "code",
   "execution_count": 80,
   "id": "89634e2a",
   "metadata": {},
   "outputs": [],
   "source": [
    "def ilkFonksiyon():\n",
    "    print(\"ilk fonksiyonum\")\n"
   ]
  },
  {
   "cell_type": "code",
   "execution_count": 81,
   "id": "fd39efa5",
   "metadata": {},
   "outputs": [
    {
     "name": "stdout",
     "output_type": "stream",
     "text": [
      "ilk fonksiyonum\n"
     ]
    }
   ],
   "source": [
    "ilkFonksiyon()"
   ]
  },
  {
   "cell_type": "markdown",
   "id": "72975deb",
   "metadata": {},
   "source": [
    "## input & return"
   ]
  },
  {
   "cell_type": "code",
   "execution_count": 82,
   "id": "0d80f6a9",
   "metadata": {},
   "outputs": [],
   "source": [
    "def merhabaDunya(yazdirilacakIsim):\n",
    "    print(\"merhaba\")\n",
    "    print(yazdirilacakIsim)\n"
   ]
  },
  {
   "cell_type": "code",
   "execution_count": 83,
   "id": "75fffeaa",
   "metadata": {},
   "outputs": [
    {
     "name": "stdout",
     "output_type": "stream",
     "text": [
      "merhaba\n",
      "Atıl\n"
     ]
    }
   ],
   "source": [
    "merhabaDunya(\"Atıl\")"
   ]
  },
  {
   "cell_type": "code",
   "execution_count": 84,
   "id": "e3455653",
   "metadata": {},
   "outputs": [],
   "source": [
    "def merhaba(isim=\"atıl\"):\n",
    "    print(\"merhaba\")\n",
    "    print(isim)"
   ]
  },
  {
   "cell_type": "code",
   "execution_count": 85,
   "id": "f4ca02a1",
   "metadata": {},
   "outputs": [
    {
     "name": "stdout",
     "output_type": "stream",
     "text": [
      "merhaba\n",
      "atıl\n"
     ]
    }
   ],
   "source": [
    "merhaba()"
   ]
  },
  {
   "cell_type": "code",
   "execution_count": 86,
   "id": "252b23d9",
   "metadata": {},
   "outputs": [
    {
     "name": "stdout",
     "output_type": "stream",
     "text": [
      "merhaba\n",
      "python\n"
     ]
    }
   ],
   "source": [
    "merhaba(\"python\")"
   ]
  },
  {
   "cell_type": "code",
   "execution_count": 88,
   "id": "172bc74c",
   "metadata": {},
   "outputs": [],
   "source": [
    "def toplama(num1,num2):\n",
    "    sonuc = num1+num2\n",
    "    print(sonuc)"
   ]
  },
  {
   "cell_type": "code",
   "execution_count": 90,
   "id": "3cc06bbc",
   "metadata": {},
   "outputs": [
    {
     "name": "stdout",
     "output_type": "stream",
     "text": [
      "30\n"
     ]
    }
   ],
   "source": [
    "toplama(10,20)"
   ]
  },
  {
   "cell_type": "code",
   "execution_count": 91,
   "id": "8166f165",
   "metadata": {},
   "outputs": [],
   "source": [
    "def dondurmeliToplama(num1,num2):\n",
    "    return num1+num2"
   ]
  },
  {
   "cell_type": "code",
   "execution_count": 92,
   "id": "eaff26d1",
   "metadata": {},
   "outputs": [],
   "source": [
    "yeniSonuc=dondurmeliToplama(10,20)"
   ]
  },
  {
   "cell_type": "code",
   "execution_count": 93,
   "id": "fc78f00e",
   "metadata": {},
   "outputs": [
    {
     "name": "stdout",
     "output_type": "stream",
     "text": [
      "30\n"
     ]
    }
   ],
   "source": [
    "print(yeniSonuc)"
   ]
  },
  {
   "cell_type": "markdown",
   "id": "067766a9",
   "metadata": {},
   "source": [
    "# args & kwargs"
   ]
  },
  {
   "cell_type": "code",
   "execution_count": 94,
   "id": "0f297083",
   "metadata": {},
   "outputs": [],
   "source": [
    "def yeniToplama(*args):\n",
    "    return sum(args)"
   ]
  },
  {
   "cell_type": "code",
   "execution_count": 95,
   "id": "14b2d0e5",
   "metadata": {},
   "outputs": [
    {
     "data": {
      "text/plain": [
       "210"
      ]
     },
     "execution_count": 95,
     "metadata": {},
     "output_type": "execute_result"
    }
   ],
   "source": [
    "yeniToplama(10,20,30,40,50,60)"
   ]
  },
  {
   "cell_type": "code",
   "execution_count": 96,
   "id": "67f3a9f5",
   "metadata": {},
   "outputs": [
    {
     "data": {
      "text/plain": [
       "30"
      ]
     },
     "execution_count": 96,
     "metadata": {},
     "output_type": "execute_result"
    }
   ],
   "source": [
    "yeniToplama(10,20)"
   ]
  },
  {
   "cell_type": "code",
   "execution_count": 99,
   "id": "d45c10db",
   "metadata": {},
   "outputs": [],
   "source": [
    "def benimFonksiyonum(*args):\n",
    "    return args"
   ]
  },
  {
   "cell_type": "code",
   "execution_count": 100,
   "id": "a596d995",
   "metadata": {},
   "outputs": [
    {
     "data": {
      "text/plain": [
       "tuple"
      ]
     },
     "execution_count": 100,
     "metadata": {},
     "output_type": "execute_result"
    }
   ],
   "source": [
    "type(benimFonksiyonum(20,30,40))"
   ]
  },
  {
   "cell_type": "code",
   "execution_count": 101,
   "id": "1a8ec870",
   "metadata": {},
   "outputs": [],
   "source": [
    "def ornekFonksiyon(**kwargs):\n",
    "    return kwargs"
   ]
  },
  {
   "cell_type": "code",
   "execution_count": 102,
   "id": "d8d8aff4",
   "metadata": {},
   "outputs": [
    {
     "data": {
      "text/plain": [
       "dict"
      ]
     },
     "execution_count": 102,
     "metadata": {},
     "output_type": "execute_result"
    }
   ],
   "source": [
    "type(ornekFonksiyon(muz=100, elma=200, ananas=300))"
   ]
  },
  {
   "cell_type": "code",
   "execution_count": 105,
   "id": "6a3607b7",
   "metadata": {},
   "outputs": [],
   "source": [
    "def keyWordKontrolu(**kwargs):\n",
    "    if \"atıl\" in kwargs:\n",
    "        print(\"atıl var\")\n",
    "    else:\n",
    "        print(\"atıl yok\")"
   ]
  },
  {
   "cell_type": "code",
   "execution_count": 106,
   "id": "9e3aa08a",
   "metadata": {},
   "outputs": [
    {
     "name": "stdout",
     "output_type": "stream",
     "text": [
      "atıl var\n"
     ]
    }
   ],
   "source": [
    "keyWordKontrolu(atıl=70,zeynep=50,mehmet=40)"
   ]
  },
  {
   "cell_type": "markdown",
   "id": "aa272dcc",
   "metadata": {},
   "source": [
    "# Önemli Fonksiyonlar"
   ]
  },
  {
   "cell_type": "code",
   "execution_count": 107,
   "id": "9ac76899",
   "metadata": {},
   "outputs": [],
   "source": [
    "def bolmeIslemi(numara):\n",
    "    return numara/2"
   ]
  },
  {
   "cell_type": "code",
   "execution_count": 108,
   "id": "d534805d",
   "metadata": {},
   "outputs": [
    {
     "data": {
      "text/plain": [
       "10.0"
      ]
     },
     "execution_count": 108,
     "metadata": {},
     "output_type": "execute_result"
    }
   ],
   "source": [
    " bolmeIslemi(20)"
   ]
  },
  {
   "cell_type": "code",
   "execution_count": 109,
   "id": "25bc391c",
   "metadata": {},
   "outputs": [],
   "source": [
    "benimListem=[1,2,3,4,5,6,7,8,9,10]"
   ]
  },
  {
   "cell_type": "code",
   "execution_count": 110,
   "id": "877b75d4",
   "metadata": {},
   "outputs": [],
   "source": [
    "yeniListe=[]\n",
    "for eleman in benimListem:\n",
    "    yeniListe.append(bolmeIslemi(eleman))"
   ]
  },
  {
   "cell_type": "code",
   "execution_count": 111,
   "id": "d0faf77d",
   "metadata": {},
   "outputs": [
    {
     "data": {
      "text/plain": [
       "[0.5, 1.0, 1.5, 2.0, 2.5, 3.0, 3.5, 4.0, 4.5, 5.0]"
      ]
     },
     "execution_count": 111,
     "metadata": {},
     "output_type": "execute_result"
    }
   ],
   "source": [
    "yeniListe"
   ]
  },
  {
   "cell_type": "markdown",
   "id": "cfbe207b",
   "metadata": {},
   "source": [
    "map Fonksiyonu"
   ]
  },
  {
   "cell_type": "code",
   "execution_count": 123,
   "id": "20da1d23",
   "metadata": {},
   "outputs": [],
   "source": [
    "#listedeki elemanları hızlıca fonksiyona sokup sonucları tekrar liseye atar"
   ]
  },
  {
   "cell_type": "code",
   "execution_count": 122,
   "id": "6302a0ca",
   "metadata": {},
   "outputs": [
    {
     "data": {
      "text/plain": [
       "[0.5, 1.0, 1.5, 2.0, 2.5, 3.0, 3.5, 4.0, 4.5, 5.0]"
      ]
     },
     "execution_count": 122,
     "metadata": {},
     "output_type": "execute_result"
    }
   ],
   "source": [
    "list(map(bolmeIslemi, benimListem))"
   ]
  },
  {
   "cell_type": "code",
   "execution_count": 115,
   "id": "954f94ca",
   "metadata": {},
   "outputs": [],
   "source": [
    "def kontrolFonksiyonu(string):\n",
    "    return \"a\" in string"
   ]
  },
  {
   "cell_type": "code",
   "execution_count": 116,
   "id": "d30ff65d",
   "metadata": {},
   "outputs": [
    {
     "data": {
      "text/plain": [
       "True"
      ]
     },
     "execution_count": 116,
     "metadata": {},
     "output_type": "execute_result"
    }
   ],
   "source": [
    "kontrolFonksiyonu(\"atıl\")"
   ]
  },
  {
   "cell_type": "code",
   "execution_count": 117,
   "id": "2adb7251",
   "metadata": {},
   "outputs": [],
   "source": [
    "stringListesi=[\"atıl\",\"samancıoğlu\",\"atlass\",\"zeynep\",\"mehmet\",\"ahmet\",\"levent\"]"
   ]
  },
  {
   "cell_type": "code",
   "execution_count": 119,
   "id": "b654eed6",
   "metadata": {},
   "outputs": [],
   "source": [
    "sonucListesi=list(map(kontrolFonksiyonu,stringListesi))"
   ]
  },
  {
   "cell_type": "code",
   "execution_count": 120,
   "id": "bcaf2dbe",
   "metadata": {},
   "outputs": [
    {
     "data": {
      "text/plain": [
       "[True, True, True, False, False, True, False]"
      ]
     },
     "execution_count": 120,
     "metadata": {},
     "output_type": "execute_result"
    }
   ],
   "source": [
    "sonucListesi"
   ]
  },
  {
   "cell_type": "code",
   "execution_count": 121,
   "id": "eed55eae",
   "metadata": {},
   "outputs": [
    {
     "data": {
      "text/plain": [
       "4"
      ]
     },
     "execution_count": 121,
     "metadata": {},
     "output_type": "execute_result"
    }
   ],
   "source": [
    "sonucListesi.count(True)"
   ]
  },
  {
   "cell_type": "markdown",
   "id": "952aca98",
   "metadata": {},
   "source": [
    "Filter fonksiyonu"
   ]
  },
  {
   "cell_type": "code",
   "execution_count": 124,
   "id": "135841ab",
   "metadata": {},
   "outputs": [
    {
     "data": {
      "text/plain": [
       "['atıl', 'samancıoğlu', 'atlass', 'ahmet']"
      ]
     },
     "execution_count": 124,
     "metadata": {},
     "output_type": "execute_result"
    }
   ],
   "source": [
    "list(filter(kontrolFonksiyonu,stringListesi))"
   ]
  },
  {
   "cell_type": "code",
   "execution_count": 125,
   "id": "bbda80ed",
   "metadata": {},
   "outputs": [],
   "source": [
    "#true olan sonucları filtreler"
   ]
  },
  {
   "cell_type": "markdown",
   "id": "3da9376e",
   "metadata": {},
   "source": [
    "lambda Fonksiyonu"
   ]
  },
  {
   "cell_type": "code",
   "execution_count": 126,
   "id": "b76ffdae",
   "metadata": {},
   "outputs": [],
   "source": [
    "carpma=lambda numara:numara*3"
   ]
  },
  {
   "cell_type": "code",
   "execution_count": 127,
   "id": "f9dee223",
   "metadata": {},
   "outputs": [
    {
     "data": {
      "text/plain": [
       "30"
      ]
     },
     "execution_count": 127,
     "metadata": {},
     "output_type": "execute_result"
    }
   ],
   "source": [
    "carpma(10)"
   ]
  },
  {
   "cell_type": "code",
   "execution_count": 128,
   "id": "58c8cfdd",
   "metadata": {},
   "outputs": [],
   "source": [
    "ornekListesi=[10,20,30]"
   ]
  },
  {
   "cell_type": "code",
   "execution_count": 129,
   "id": "6da7dfde",
   "metadata": {},
   "outputs": [
    {
     "data": {
      "text/plain": [
       "[40, 80, 120]"
      ]
     },
     "execution_count": 129,
     "metadata": {},
     "output_type": "execute_result"
    }
   ],
   "source": [
    "list(map(lambda numara:numara*4, ornekListesi))"
   ]
  },
  {
   "cell_type": "markdown",
   "id": "44a1aefe",
   "metadata": {},
   "source": [
    "# Kapsam (Scope)"
   ]
  },
  {
   "cell_type": "code",
   "execution_count": 131,
   "id": "747ef3b8",
   "metadata": {},
   "outputs": [],
   "source": [
    "numara=20\n",
    "def carpma(rakam):\n",
    "    numara=10\n",
    "    return numara*rakam"
   ]
  },
  {
   "cell_type": "code",
   "execution_count": 132,
   "id": "b45c7cb9",
   "metadata": {},
   "outputs": [
    {
     "data": {
      "text/plain": [
       "50"
      ]
     },
     "execution_count": 132,
     "metadata": {},
     "output_type": "execute_result"
    }
   ],
   "source": [
    "carpma(5)"
   ]
  },
  {
   "cell_type": "code",
   "execution_count": 133,
   "id": "2a7d9354",
   "metadata": {},
   "outputs": [
    {
     "name": "stdout",
     "output_type": "stream",
     "text": [
      "20\n"
     ]
    }
   ],
   "source": [
    "print(numara)"
   ]
  },
  {
   "cell_type": "code",
   "execution_count": 134,
   "id": "0cade077",
   "metadata": {},
   "outputs": [],
   "source": [
    "x=20\n",
    "x=10"
   ]
  },
  {
   "cell_type": "code",
   "execution_count": 135,
   "id": "e07f20f8",
   "metadata": {},
   "outputs": [
    {
     "data": {
      "text/plain": [
       "10"
      ]
     },
     "execution_count": 135,
     "metadata": {},
     "output_type": "execute_result"
    }
   ],
   "source": [
    "x"
   ]
  },
  {
   "cell_type": "markdown",
   "id": "ee4ab598",
   "metadata": {},
   "source": [
    "Local, Enclosing, Global, Built-In Modeli"
   ]
  },
  {
   "cell_type": "code",
   "execution_count": 140,
   "id": "d67ef3a6",
   "metadata": {},
   "outputs": [],
   "source": [
    "benimAdim = \"Atıl\"\n",
    "#Global değişken\n",
    "\n",
    "def benimFonksiyonum():\n",
    "    benimAdim = \"Alperen\"\n",
    "    #Enclosing\n",
    "    def icFonksiyon():\n",
    "        benimAdim=\"Ayşe\"\n",
    "        #Local\n",
    "        print(benimAdim)\n",
    "    icFonksiyon()"
   ]
  },
  {
   "cell_type": "code",
   "execution_count": 141,
   "id": "ec3b1339",
   "metadata": {},
   "outputs": [
    {
     "name": "stdout",
     "output_type": "stream",
     "text": [
      "Ayşe\n"
     ]
    }
   ],
   "source": [
    "benimFonksiyonum()"
   ]
  },
  {
   "cell_type": "code",
   "execution_count": 142,
   "id": "dd56e3d2",
   "metadata": {},
   "outputs": [
    {
     "name": "stdout",
     "output_type": "stream",
     "text": [
      "Atıl\n"
     ]
    }
   ],
   "source": [
    "print(benimAdim)"
   ]
  },
  {
   "cell_type": "code",
   "execution_count": 151,
   "id": "a23dc644",
   "metadata": {},
   "outputs": [],
   "source": [
    "y=10\n",
    "def yeniFonksiyon(y):\n",
    "    print(y)\n",
    "    y=5\n",
    "    print(y)\n",
    "    return y\n"
   ]
  },
  {
   "cell_type": "code",
   "execution_count": 152,
   "id": "7d3a3c6e",
   "metadata": {},
   "outputs": [
    {
     "name": "stdout",
     "output_type": "stream",
     "text": [
      "3\n",
      "5\n"
     ]
    },
    {
     "data": {
      "text/plain": [
       "5"
      ]
     },
     "execution_count": 152,
     "metadata": {},
     "output_type": "execute_result"
    }
   ],
   "source": [
    "yeniFonksiyon(3)"
   ]
  },
  {
   "cell_type": "code",
   "execution_count": 153,
   "id": "c625c93b",
   "metadata": {},
   "outputs": [],
   "source": [
    "#Globaldeki değişkeni değiştirme"
   ]
  },
  {
   "cell_type": "code",
   "execution_count": 154,
   "id": "05ad31f5",
   "metadata": {},
   "outputs": [
    {
     "data": {
      "text/plain": [
       "10"
      ]
     },
     "execution_count": 154,
     "metadata": {},
     "output_type": "execute_result"
    }
   ],
   "source": [
    "y"
   ]
  },
  {
   "cell_type": "code",
   "execution_count": 155,
   "id": "780facb5",
   "metadata": {},
   "outputs": [
    {
     "name": "stdout",
     "output_type": "stream",
     "text": [
      "3\n",
      "5\n"
     ]
    }
   ],
   "source": [
    "y=yeniFonksiyon(3)"
   ]
  },
  {
   "cell_type": "code",
   "execution_count": 156,
   "id": "ef3980ff",
   "metadata": {},
   "outputs": [
    {
     "data": {
      "text/plain": [
       "5"
      ]
     },
     "execution_count": 156,
     "metadata": {},
     "output_type": "execute_result"
    }
   ],
   "source": [
    "y"
   ]
  },
  {
   "cell_type": "code",
   "execution_count": 157,
   "id": "fcb28202",
   "metadata": {},
   "outputs": [],
   "source": [
    "y=10\n",
    "def ornekFonksiyon():\n",
    "    global y\n",
    "    y=5\n",
    "    print(y)"
   ]
  },
  {
   "cell_type": "code",
   "execution_count": 158,
   "id": "d94fc6a3",
   "metadata": {},
   "outputs": [
    {
     "name": "stdout",
     "output_type": "stream",
     "text": [
      "5\n"
     ]
    }
   ],
   "source": [
    "ornekFonksiyon()"
   ]
  },
  {
   "cell_type": "code",
   "execution_count": 159,
   "id": "ca6da65f",
   "metadata": {},
   "outputs": [
    {
     "data": {
      "text/plain": [
       "5"
      ]
     },
     "execution_count": 159,
     "metadata": {},
     "output_type": "execute_result"
    }
   ],
   "source": [
    "y"
   ]
  },
  {
   "cell_type": "markdown",
   "id": "57817408",
   "metadata": {},
   "source": [
    "# Hesap Makinesi"
   ]
  },
  {
   "cell_type": "code",
   "execution_count": 191,
   "id": "9e311d6b",
   "metadata": {},
   "outputs": [
    {
     "name": "stdout",
     "output_type": "stream",
     "text": [
      "Program Başlatıldı.\n",
      "İşleminizi seçiniz +-*/: 1\n",
      "Lütfen şu işlemlerden birini seçiniz: +-*/\n",
      "İşleminizi seçiniz +-*/: +\n",
      "ilk sayıyı giriniz: atul\n",
      "Lütfen sayıları düzgün giriniz!\n",
      "İşleminizi seçiniz +-*/: +\n",
      "ilk sayıyı giriniz: 3\n",
      "ikinici sayıyı giriniz: bebe\n",
      "Lütfen sayıları düzgün giriniz!\n",
      "İşleminizi seçiniz +-*/: -1\n",
      "Lütfen şu işlemlerden birini seçiniz: +-*/\n",
      "İşleminizi seçiniz +-*/: +\n",
      "ilk sayıyı giriniz: 3\n",
      "ikinici sayıyı giriniz: 2\n",
      "3 + 2 = 5\n",
      "Devam etmek için herhangi bir tuşa basınız: -1\n"
     ]
    }
   ],
   "source": [
    "def hesapla(a,b,islem):\n",
    "    if islem==\"+\":\n",
    "        return(f\"{a} + {b} = {a+b}\")\n",
    "    if islem ==\"-\":\n",
    "        return(f\"{a} - {b} = {a-b}\")\n",
    "    if islem==\"*\":\n",
    "        return(f\"{a} * {b} = {a*b}\")\n",
    "    if islem ==\"/\":\n",
    "        return(f\"{a} / {b} = {a/b}\")\n",
    "    \n",
    "print(\"Program Başlatıldı.\")\n",
    "while True:\n",
    "    try:\n",
    "        islem = input(\"İşleminizi seçiniz +-*/: \")\n",
    "        if islem not in \"+-*/\":\n",
    "            print(\"Lütfen şu işlemlerden birini seçiniz: +-*/\")\n",
    "            continue\n",
    "        a= int(input(\"ilk sayıyı giriniz: \"))\n",
    "        b= int(input(\"ikinici sayıyı giriniz: \"))\n",
    "        print(hesapla(a,b,islem))\n",
    "        kapat=input(\"Kapatmak için -1 tuşuna basınız: \")\n",
    "        if kapat=='-1':\n",
    "            break\n",
    "    except:\n",
    "        print(\"Lütfen sayıları düzgün giriniz!\")\n"
   ]
  },
  {
   "cell_type": "code",
   "execution_count": 190,
   "id": "06c1f408",
   "metadata": {},
   "outputs": [],
   "source": [
    "## Hataları Ele Alma try except tekniği"
   ]
  },
  {
   "cell_type": "code",
   "execution_count": null,
   "id": "11bfcc29",
   "metadata": {},
   "outputs": [],
   "source": []
  }
 ],
 "metadata": {
  "kernelspec": {
   "display_name": "Python 3 (ipykernel)",
   "language": "python",
   "name": "python3"
  },
  "language_info": {
   "codemirror_mode": {
    "name": "ipython",
    "version": 3
   },
   "file_extension": ".py",
   "mimetype": "text/x-python",
   "name": "python",
   "nbconvert_exporter": "python",
   "pygments_lexer": "ipython3",
   "version": "3.9.7"
  }
 },
 "nbformat": 4,
 "nbformat_minor": 5
}

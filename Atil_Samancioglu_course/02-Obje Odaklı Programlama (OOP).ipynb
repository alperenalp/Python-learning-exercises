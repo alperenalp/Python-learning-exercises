{
 "cells": [
  {
   "cell_type": "markdown",
   "id": "d70269a4",
   "metadata": {},
   "source": [
    "## Instance(nesne) & attribute(ozellik)"
   ]
  },
  {
   "cell_type": "code",
   "execution_count": null,
   "id": "8bc1bcab",
   "metadata": {},
   "outputs": [],
   "source": [
    "superKahramanAdi= \"Superman\"\n",
    "superKahramanYasi=30\n",
    "superKahramanMeslegi=\"Gazeteci\""
   ]
  },
  {
   "cell_type": "code",
   "execution_count": null,
   "id": "6ab5739b",
   "metadata": {},
   "outputs": [],
   "source": [
    "class SuperKahraman():\n",
    "    ozelGuc=\"Görünmezlik\"\n",
    "    def __init__(self,isim,yas,meslek):\n",
    "        #nesne olusturdugumzda otomatik olarak çalışır\n",
    "        print(\"init çağrıldı\")\n",
    "        self.isim=isim\n",
    "        self.yas=yas\n",
    "        self.meslek=meslek\n",
    "\n",
    "    def ornekMetod(self):\n",
    "        print(f\"Ben süper kahramanım ve mesleğim: {self.meslek}\")"
   ]
  },
  {
   "cell_type": "code",
   "execution_count": null,
   "id": "d20664e6",
   "metadata": {},
   "outputs": [],
   "source": [
    "superman= SuperKahraman(\"Superman\",30,\"Gazeteci\")"
   ]
  },
  {
   "cell_type": "code",
   "execution_count": null,
   "id": "bc8eb7b0",
   "metadata": {},
   "outputs": [],
   "source": [
    "superman.isim=\"Clark Kent\""
   ]
  },
  {
   "cell_type": "code",
   "execution_count": null,
   "id": "71d27163",
   "metadata": {},
   "outputs": [],
   "source": [
    "superman.isim"
   ]
  },
  {
   "cell_type": "code",
   "execution_count": null,
   "id": "b62c3ac2",
   "metadata": {},
   "outputs": [],
   "source": [
    "superman.ozelGuc=\"Uçabilme\""
   ]
  },
  {
   "cell_type": "code",
   "execution_count": null,
   "id": "f8b9a481",
   "metadata": {},
   "outputs": [],
   "source": [
    "superman.ozelGuc"
   ]
  },
  {
   "cell_type": "markdown",
   "id": "199c1fb2",
   "metadata": {},
   "source": [
    "## Methodlar"
   ]
  },
  {
   "cell_type": "code",
   "execution_count": null,
   "id": "fd40d210",
   "metadata": {},
   "outputs": [],
   "source": [
    "superman.ornekMetod()"
   ]
  },
  {
   "cell_type": "markdown",
   "id": "08fb8ca8",
   "metadata": {},
   "source": [
    "## Default Değerler(self)"
   ]
  },
  {
   "cell_type": "code",
   "execution_count": null,
   "id": "c426b3c8",
   "metadata": {},
   "outputs": [],
   "source": [
    "class Kopek():\n",
    "    yilCarpani=7\n",
    "    def __init__(self,yas=0):\n",
    "        self.yas=yas\n",
    "    \n",
    "    def insanYasiHesapla(self):\n",
    "        insanYasi=self.yas*self.yilCarpani\n",
    "        print(f\"Köpeğin insan yaşı: {insanYasi}\")"
   ]
  },
  {
   "cell_type": "code",
   "execution_count": null,
   "id": "a6770c25",
   "metadata": {},
   "outputs": [],
   "source": [
    "benimKopek = Kopek()"
   ]
  },
  {
   "cell_type": "code",
   "execution_count": null,
   "id": "2bd54bbe",
   "metadata": {},
   "outputs": [],
   "source": [
    "benimKopek.yas"
   ]
  },
  {
   "cell_type": "code",
   "execution_count": null,
   "id": "643a4d52",
   "metadata": {},
   "outputs": [],
   "source": [
    "onunKopek=Kopek(5)"
   ]
  },
  {
   "cell_type": "code",
   "execution_count": null,
   "id": "e09334f3",
   "metadata": {},
   "outputs": [],
   "source": [
    "onunKopek.yas"
   ]
  },
  {
   "cell_type": "code",
   "execution_count": null,
   "id": "4f73cf4a",
   "metadata": {},
   "outputs": [],
   "source": [
    "onunKopek.insanYasiHesapla()"
   ]
  },
  {
   "cell_type": "markdown",
   "id": "8e6fd826",
   "metadata": {},
   "source": [
    "# Inheritance(Kalıtım)"
   ]
  },
  {
   "cell_type": "code",
   "execution_count": null,
   "id": "6e0d74a6",
   "metadata": {},
   "outputs": [],
   "source": [
    "class Hayvan():\n",
    "    def __init__(self):\n",
    "        print(\"hayvan sınıfı init çağrıldı\")\n",
    "        \n",
    "    def method1(self):\n",
    "        print(\"hayvan sınıfı method1 çağrıldı\")\n",
    "        \n",
    "    def method2(self):\n",
    "        print(\"hayvan sınıfı method2 çağrıldı\")"
   ]
  },
  {
   "cell_type": "code",
   "execution_count": null,
   "id": "d33ab7c9",
   "metadata": {},
   "outputs": [],
   "source": [
    "benimHayvan=Hayvan()"
   ]
  },
  {
   "cell_type": "code",
   "execution_count": null,
   "id": "d744224f",
   "metadata": {},
   "outputs": [],
   "source": [
    "benimHayvan.method1()"
   ]
  },
  {
   "cell_type": "code",
   "execution_count": null,
   "id": "f07bfcaf",
   "metadata": {},
   "outputs": [],
   "source": [
    "benimHayvan.method2()"
   ]
  },
  {
   "cell_type": "code",
   "execution_count": null,
   "id": "707614b7",
   "metadata": {},
   "outputs": [],
   "source": [
    "class Kedi(Hayvan):\n",
    "    def __init__(self):\n",
    "        Hayvan.__init__(self)\n",
    "        print(\"kedi sınıfı init çağrıldı.\")\n",
    "        \n",
    "    def miyavla(self):\n",
    "        print(\"miyav\")\n",
    "        \n",
    "    #override    \n",
    "    def method1(self):\n",
    "        print(\"kedi sınıfındaki method1 çağrıldı\")"
   ]
  },
  {
   "cell_type": "code",
   "execution_count": null,
   "id": "74f900d6",
   "metadata": {},
   "outputs": [],
   "source": [
    "benimKedi=Kedi()"
   ]
  },
  {
   "cell_type": "code",
   "execution_count": null,
   "id": "8e79aae1",
   "metadata": {},
   "outputs": [],
   "source": [
    "benimKedi.method1()"
   ]
  },
  {
   "cell_type": "code",
   "execution_count": null,
   "id": "a147f0c0",
   "metadata": {},
   "outputs": [],
   "source": [
    "benimKedi.method2()"
   ]
  },
  {
   "cell_type": "code",
   "execution_count": null,
   "id": "33eda98d",
   "metadata": {},
   "outputs": [],
   "source": [
    "benimKedi.miyavla()"
   ]
  },
  {
   "cell_type": "markdown",
   "id": "432dea16",
   "metadata": {},
   "source": [
    "## Override(üzerinde yazma)"
   ]
  },
  {
   "cell_type": "code",
   "execution_count": null,
   "id": "ea9fc630",
   "metadata": {},
   "outputs": [],
   "source": [
    "benimKedi.method1()"
   ]
  },
  {
   "cell_type": "markdown",
   "id": "246b0ef5",
   "metadata": {},
   "source": [
    "# Polymorphism"
   ]
  },
  {
   "cell_type": "code",
   "execution_count": null,
   "id": "6ebfa201",
   "metadata": {},
   "outputs": [],
   "source": [
    "#Aynı isimde methodların farklı amaca hizmet edebilmesidir."
   ]
  },
  {
   "cell_type": "code",
   "execution_count": null,
   "id": "13d9da2a",
   "metadata": {},
   "outputs": [],
   "source": [
    "class Elma():\n",
    "    def __init__(self,isim):\n",
    "        self.isim=isim\n",
    "        \n",
    "    def bilgiVer(self):\n",
    "        return self.isim + \" 100 kaloridir \"\n",
    "    "
   ]
  },
  {
   "cell_type": "code",
   "execution_count": null,
   "id": "85cfa573",
   "metadata": {},
   "outputs": [],
   "source": [
    "class Muz():\n",
    "    def __init__(self,isim):\n",
    "        self.isim=isim\n",
    "        \n",
    "    def bilgiVer(self):\n",
    "        return self.isim + \" 150 kaloridir \""
   ]
  },
  {
   "cell_type": "code",
   "execution_count": null,
   "id": "6c50c74e",
   "metadata": {},
   "outputs": [],
   "source": [
    "elma = Elma(\"elma\")"
   ]
  },
  {
   "cell_type": "code",
   "execution_count": null,
   "id": "13914183",
   "metadata": {},
   "outputs": [],
   "source": [
    "elma.bilgiVer()"
   ]
  },
  {
   "cell_type": "code",
   "execution_count": null,
   "id": "7e639e63",
   "metadata": {},
   "outputs": [],
   "source": [
    "muz = Muz(\"muz\")"
   ]
  },
  {
   "cell_type": "code",
   "execution_count": null,
   "id": "3d7dca13",
   "metadata": {},
   "outputs": [],
   "source": [
    "muz.bilgiVer()"
   ]
  },
  {
   "cell_type": "code",
   "execution_count": null,
   "id": "98b2d280",
   "metadata": {},
   "outputs": [],
   "source": [
    "meyveListesi=[elma,muz]"
   ]
  },
  {
   "cell_type": "code",
   "execution_count": null,
   "id": "6b280cba",
   "metadata": {},
   "outputs": [],
   "source": [
    "for meyve in meyveListesi:\n",
    "    print(meyve.bilgiVer())"
   ]
  },
  {
   "cell_type": "code",
   "execution_count": null,
   "id": "10f52b45",
   "metadata": {},
   "outputs": [],
   "source": [
    "def bilgiAl(meyve):\n",
    "    print(meyve.bilgiVer())\n",
    "    "
   ]
  },
  {
   "cell_type": "code",
   "execution_count": null,
   "id": "34b25dc7",
   "metadata": {},
   "outputs": [],
   "source": [
    "bilgiAl(muz)"
   ]
  },
  {
   "cell_type": "code",
   "execution_count": null,
   "id": "ba84ae17",
   "metadata": {},
   "outputs": [],
   "source": [
    "bilgiAl(elma)"
   ]
  },
  {
   "cell_type": "markdown",
   "id": "76bdab1d",
   "metadata": {},
   "source": [
    "## Ozel Methodlar"
   ]
  },
  {
   "cell_type": "code",
   "execution_count": null,
   "id": "429e27b1",
   "metadata": {},
   "outputs": [],
   "source": [
    "class Meyve():\n",
    "    def __init__(self,isim,kalori):\n",
    "        self.isim=isim\n",
    "        self.kalori = kalori\n",
    "    \n",
    "    def __str__(self):\n",
    "        return f\"{self.isim} şu kadar kaloriye sahiptir: {self.kalori}\"\n",
    "    \n",
    "    def __len__(self):\n",
    "        return self.kalori\n",
    "    "
   ]
  },
  {
   "cell_type": "code",
   "execution_count": null,
   "id": "409e1a53",
   "metadata": {},
   "outputs": [],
   "source": [
    "muz = Meyve(\"Muz\",150)"
   ]
  },
  {
   "cell_type": "code",
   "execution_count": null,
   "id": "488fa023",
   "metadata": {},
   "outputs": [],
   "source": [
    "muz.kalori"
   ]
  },
  {
   "cell_type": "code",
   "execution_count": null,
   "id": "afa5d769",
   "metadata": {},
   "outputs": [],
   "source": [
    "print(muz)"
   ]
  },
  {
   "cell_type": "code",
   "execution_count": null,
   "id": "295d03ef",
   "metadata": {},
   "outputs": [],
   "source": [
    "benimListem = [1,2,3,\"a\",4.1]"
   ]
  },
  {
   "cell_type": "code",
   "execution_count": null,
   "id": "810d9a3c",
   "metadata": {},
   "outputs": [],
   "source": [
    "print(benimListem)"
   ]
  },
  {
   "cell_type": "code",
   "execution_count": null,
   "id": "d27bd1a1",
   "metadata": {},
   "outputs": [],
   "source": [
    "len(benimListem)"
   ]
  },
  {
   "cell_type": "code",
   "execution_count": null,
   "id": "e52c542b",
   "metadata": {},
   "outputs": [],
   "source": [
    "len(muz)"
   ]
  },
  {
   "cell_type": "code",
   "execution_count": null,
   "id": "38c79cfd",
   "metadata": {},
   "outputs": [],
   "source": [
    "elma = Meyve(\"Elma\",200)"
   ]
  },
  {
   "cell_type": "code",
   "execution_count": null,
   "id": "3847d1b7",
   "metadata": {},
   "outputs": [],
   "source": [
    "print(elma)"
   ]
  },
  {
   "cell_type": "code",
   "execution_count": null,
   "id": "391c4fe9",
   "metadata": {},
   "outputs": [],
   "source": [
    "len(elma)"
   ]
  },
  {
   "cell_type": "markdown",
   "id": "49012e81",
   "metadata": {},
   "source": [
    "# Hataları Ele Almak (try-except)"
   ]
  },
  {
   "cell_type": "code",
   "execution_count": null,
   "id": "40da7c96",
   "metadata": {},
   "outputs": [],
   "source": [
    "def toplama(numara1, numara2):\n",
    "    return numara1+numara2"
   ]
  },
  {
   "cell_type": "code",
   "execution_count": null,
   "id": "1ea7b146",
   "metadata": {},
   "outputs": [],
   "source": [
    "x=int(input(\"ilk numarayı giriniz: \"))\n",
    "y= int(input(\"ikinci numarayı giriniz: \"))\n",
    "toplama(x,y)"
   ]
  },
  {
   "cell_type": "markdown",
   "id": "87627aac",
   "metadata": {},
   "source": [
    "## try & except & else & finally"
   ]
  },
  {
   "cell_type": "code",
   "execution_count": 1,
   "id": "f1c5c8e0",
   "metadata": {},
   "outputs": [
    {
     "name": "stdout",
     "output_type": "stream",
     "text": [
      "Numaranızı giriniz: atıl\n",
      "Lütfen yalnızca rakam giriniz!\n",
      "finally çağrıldı.\n",
      "Numaranızı giriniz: ghjk\n",
      "Lütfen yalnızca rakam giriniz!\n",
      "finally çağrıldı.\n",
      "Numaranızı giriniz: \n",
      "Lütfen yalnızca rakam giriniz!\n",
      "finally çağrıldı.\n",
      "Numaranızı giriniz: 10\n",
      "Teşekkürler\n",
      "finally çağrıldı.\n"
     ]
    }
   ],
   "source": [
    "while True:\n",
    "    try:\n",
    "        benimInt=int(input(\"Numaranızı giriniz: \"))\n",
    "    except:\n",
    "        print(\"Lütfen yalnızca rakam giriniz!\")\n",
    "        continue\n",
    "    else:\n",
    "        print(\"Teşekkürler\")\n",
    "        break\n",
    "    finally:\n",
    "        print(\"finally çağrıldı.\")\n",
    "        "
   ]
  },
  {
   "cell_type": "markdown",
   "id": "f8ba9a1c",
   "metadata": {},
   "source": [
    "# Libraries (Kutuphaneler)"
   ]
  },
  {
   "cell_type": "code",
   "execution_count": 9,
   "id": "5a6427d0",
   "metadata": {},
   "outputs": [],
   "source": [
    "import numpy as np\n",
    "import matplotlib.pyplot as matplot"
   ]
  },
  {
   "cell_type": "code",
   "execution_count": 10,
   "id": "8f812a4f",
   "metadata": {},
   "outputs": [
    {
     "data": {
      "text/plain": [
       "3995.079215531255"
      ]
     },
     "execution_count": 10,
     "metadata": {},
     "output_type": "execute_result"
    }
   ],
   "source": [
    "maasListesi = np.random.normal(4000,500,1000)\n",
    "## Ortalama 4000 lira maaş çevresinde dolaşan ve \n",
    "## standart sapması 500 lira olan 1000 adet veri\n",
    "numpy.mean(maasListesi)"
   ]
  },
  {
   "cell_type": "code",
   "execution_count": 11,
   "id": "c19b0aa7",
   "metadata": {},
   "outputs": [
    {
     "data": {
      "image/png": "[encoded data removed]",
      "text/plain": [
       "<Figure size 432x288 with 1 Axes>"
      ]
     },
     "metadata": {
      "needs_background": "light"
     },
     "output_type": "display_data"
    }
   ],
   "source": [
    "matplot.hist(maasListesi,50)\n",
    "matplot.show()"
   ]
  },
  {
   "cell_type": "markdown",
   "id": "dcaf2724",
   "metadata": {},
   "source": [
    "# Moduller ve Paketler"
   ]
  },
  {
   "cell_type": "code",
   "execution_count": null,
   "id": "be78b69a",
   "metadata": {},
   "outputs": [],
   "source": []
  }
 ],
 "metadata": {
  "kernelspec": {
   "display_name": "Python 3 (ipykernel)",
   "language": "python",
   "name": "python3"
  },
  "language_info": {
   "codemirror_mode": {
    "name": "ipython",
    "version": 3
   },
   "file_extension": ".py",
   "mimetype": "text/x-python",
   "name": "python",
   "nbconvert_exporter": "python",
   "pygments_lexer": "ipython3",
   "version": "3.9.7"
  }
 },
 "nbformat": 4,
 "nbformat_minor": 5
}
